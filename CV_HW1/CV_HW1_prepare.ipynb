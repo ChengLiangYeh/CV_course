{
 "cells": [
  {
   "cell_type": "code",
   "execution_count": 23,
   "metadata": {},
   "outputs": [],
   "source": [
    "import numpy as np\n",
    "import cv2"
   ]
  },
  {
   "cell_type": "code",
   "execution_count": 24,
   "metadata": {},
   "outputs": [
    {
     "data": {
      "text/plain": [
       "numpy.ndarray"
      ]
     },
     "execution_count": 24,
     "metadata": {},
     "output_type": "execute_result"
    }
   ],
   "source": [
    "img = cv2.imread('lena.bmp')\n",
    "type(img)\n"
   ]
  },
  {
   "cell_type": "code",
   "execution_count": 25,
   "metadata": {},
   "outputs": [
    {
     "data": {
      "text/plain": [
       "(512, 512, 3)"
      ]
     },
     "execution_count": 25,
     "metadata": {},
     "output_type": "execute_result"
    }
   ],
   "source": [
    "img.shape"
   ]
  },
  {
   "cell_type": "code",
   "execution_count": 26,
   "metadata": {},
   "outputs": [],
   "source": [
    "cv2.imshow('lena',img)\n",
    "cv2.waitKey(0)\n",
    "cv2.destroyAllWindows()"
   ]
  },
  {
   "cell_type": "code",
   "execution_count": 27,
   "metadata": {},
   "outputs": [],
   "source": [
    "img_gray = cv2.imread('lena.bmp', cv2.IMREAD_GRAYSCALE)"
   ]
  },
  {
   "cell_type": "code",
   "execution_count": 28,
   "metadata": {},
   "outputs": [],
   "source": [
    "cv2.imshow('lena_gray',img_gray)\n",
    "cv2.waitKey(0)\n",
    "cv2.destroyAllWindows()"
   ]
  },
  {
   "cell_type": "code",
   "execution_count": 29,
   "metadata": {},
   "outputs": [
    {
     "name": "stdout",
     "output_type": "stream",
     "text": [
      "[[[162 162 162]\n",
      "  [162 162 162]\n",
      "  [162 162 162]\n",
      "  ...\n",
      "  [170 170 170]\n",
      "  [155 155 155]\n",
      "  [128 128 128]]\n",
      "\n",
      " [[162 162 162]\n",
      "  [162 162 162]\n",
      "  [162 162 162]\n",
      "  ...\n",
      "  [170 170 170]\n",
      "  [155 155 155]\n",
      "  [128 128 128]]\n",
      "\n",
      " [[162 162 162]\n",
      "  [162 162 162]\n",
      "  [162 162 162]\n",
      "  ...\n",
      "  [170 170 170]\n",
      "  [155 155 155]\n",
      "  [128 128 128]]\n",
      "\n",
      " ...\n",
      "\n",
      " [[ 43  43  43]\n",
      "  [ 43  43  43]\n",
      "  [ 50  50  50]\n",
      "  ...\n",
      "  [104 104 104]\n",
      "  [100 100 100]\n",
      "  [ 98  98  98]]\n",
      "\n",
      " [[ 44  44  44]\n",
      "  [ 44  44  44]\n",
      "  [ 55  55  55]\n",
      "  ...\n",
      "  [104 104 104]\n",
      "  [105 105 105]\n",
      "  [108 108 108]]\n",
      "\n",
      " [[ 44  44  44]\n",
      "  [ 44  44  44]\n",
      "  [ 55  55  55]\n",
      "  ...\n",
      "  [104 104 104]\n",
      "  [105 105 105]\n",
      "  [108 108 108]]]\n"
     ]
    }
   ],
   "source": [
    "print(img)"
   ]
  },
  {
   "cell_type": "code",
   "execution_count": 176,
   "metadata": {},
   "outputs": [
    {
     "name": "stdout",
     "output_type": "stream",
     "text": [
      "[[ 1  2  3  4]\n",
      " [ 5  6  7  8]\n",
      " [ 9 10 11 12]\n",
      " [13 14 15 16]]\n"
     ]
    }
   ],
   "source": [
    "a = np.array([(1,2,3,4),(5,6,7,8),(9,10,11,12),(13,14,15,16)])\n",
    "print(a)"
   ]
  },
  {
   "cell_type": "code",
   "execution_count": 177,
   "metadata": {},
   "outputs": [],
   "source": [
    "#a[0][0] = 123\n",
    "#print(a)"
   ]
  },
  {
   "cell_type": "code",
   "execution_count": 178,
   "metadata": {},
   "outputs": [
    {
     "name": "stdout",
     "output_type": "stream",
     "text": [
      "[[ 1  2  3  4  5  6  7  8]\n",
      " [ 9 10 11 12 13 14 15 16]]\n"
     ]
    }
   ],
   "source": [
    "b = np.reshape(a,(2,8))\n",
    "print(b)\n"
   ]
  },
  {
   "cell_type": "code",
   "execution_count": 179,
   "metadata": {},
   "outputs": [
    {
     "name": "stdout",
     "output_type": "stream",
     "text": [
      "[[ 1  2  3  4  5  6  7  8  9 10 11 12 13 14 15 16]]\n"
     ]
    }
   ],
   "source": [
    "b = np.reshape(a,(1,16))\n",
    "print(b)"
   ]
  },
  {
   "cell_type": "code",
   "execution_count": 180,
   "metadata": {},
   "outputs": [],
   "source": [
    "#for i in range(5):\n",
    "#    c = abs(i-5)\n",
    "#    print(c) \n",
    "    \n"
   ]
  },
  {
   "cell_type": "code",
   "execution_count": 181,
   "metadata": {},
   "outputs": [],
   "source": [
    "#b[0][1] = 1 \n",
    "#print(b)"
   ]
  },
  {
   "cell_type": "code",
   "execution_count": 182,
   "metadata": {},
   "outputs": [],
   "source": [
    "#for i in range(15):\n",
    "#    b[0][i] = b[0][abs(i-15)]\n",
    "#print(b)"
   ]
  },
  {
   "cell_type": "code",
   "execution_count": 183,
   "metadata": {},
   "outputs": [],
   "source": [
    "#靠北 再開一個陣列"
   ]
  },
  {
   "cell_type": "code",
   "execution_count": 184,
   "metadata": {},
   "outputs": [
    {
     "name": "stdout",
     "output_type": "stream",
     "text": [
      "[[0. 0. 0. 0. 0. 0. 0. 0. 0. 0. 0. 0. 0. 0. 0. 0.]]\n"
     ]
    }
   ],
   "source": [
    "#c = np.array([(0),(16)])\n",
    "#print(c)\n",
    "\n",
    "#c = np.array([(0,1),(16,17)])\n",
    "#print(c)\n",
    "\n",
    "c = np.linspace(0,16,1)\n",
    "c.resize(1,16)\n",
    "print(c)"
   ]
  },
  {
   "cell_type": "code",
   "execution_count": 185,
   "metadata": {},
   "outputs": [
    {
     "name": "stdout",
     "output_type": "stream",
     "text": [
      "[[16.  0.  0.  0.  0.  0.  0.  0.  0.  0.  0.  0.  0.  0.  0.  0.]]\n",
      "[[16. 15.  0.  0.  0.  0.  0.  0.  0.  0.  0.  0.  0.  0.  0.  0.]]\n",
      "[[16. 15. 14.  0.  0.  0.  0.  0.  0.  0.  0.  0.  0.  0.  0.  0.]]\n",
      "[[16. 15. 14. 13.  0.  0.  0.  0.  0.  0.  0.  0.  0.  0.  0.  0.]]\n",
      "[[16. 15. 14. 13. 12.  0.  0.  0.  0.  0.  0.  0.  0.  0.  0.  0.]]\n",
      "[[16. 15. 14. 13. 12. 11.  0.  0.  0.  0.  0.  0.  0.  0.  0.  0.]]\n",
      "[[16. 15. 14. 13. 12. 11. 10.  0.  0.  0.  0.  0.  0.  0.  0.  0.]]\n",
      "[[16. 15. 14. 13. 12. 11. 10.  9.  0.  0.  0.  0.  0.  0.  0.  0.]]\n",
      "[[16. 15. 14. 13. 12. 11. 10.  9.  8.  0.  0.  0.  0.  0.  0.  0.]]\n",
      "[[16. 15. 14. 13. 12. 11. 10.  9.  8.  7.  0.  0.  0.  0.  0.  0.]]\n",
      "[[16. 15. 14. 13. 12. 11. 10.  9.  8.  7.  6.  0.  0.  0.  0.  0.]]\n",
      "[[16. 15. 14. 13. 12. 11. 10.  9.  8.  7.  6.  5.  0.  0.  0.  0.]]\n",
      "[[16. 15. 14. 13. 12. 11. 10.  9.  8.  7.  6.  5.  4.  0.  0.  0.]]\n",
      "[[16. 15. 14. 13. 12. 11. 10.  9.  8.  7.  6.  5.  4.  3.  0.  0.]]\n",
      "[[16. 15. 14. 13. 12. 11. 10.  9.  8.  7.  6.  5.  4.  3.  2.  0.]]\n"
     ]
    }
   ],
   "source": [
    "for i in range(15):\n",
    "    c[0][i] = b[0][abs(i-15)]\n",
    "    print(c)"
   ]
  },
  {
   "cell_type": "code",
   "execution_count": 186,
   "metadata": {},
   "outputs": [
    {
     "name": "stdout",
     "output_type": "stream",
     "text": [
      "[[16. 15. 14. 13. 12. 11. 10.  9.  8.  7.  6.  5.  4.  3.  2.  1.]]\n"
     ]
    }
   ],
   "source": [
    "c[0][15] = b[0][0]\n",
    "print(c)\n",
    "\n",
    "#絕對值那樣寫造成0的時候會變成[][]"
   ]
  },
  {
   "cell_type": "code",
   "execution_count": 188,
   "metadata": {},
   "outputs": [
    {
     "name": "stdout",
     "output_type": "stream",
     "text": [
      "[[16. 15. 14. 13.]\n",
      " [12. 11. 10.  9.]\n",
      " [ 8.  7.  6.  5.]\n",
      " [ 4.  3.  2.  1.]]\n"
     ]
    }
   ],
   "source": [
    "c = np.reshape(c,(4,4))\n",
    "print(c)"
   ]
  },
  {
   "cell_type": "code",
   "execution_count": null,
   "metadata": {},
   "outputs": [],
   "source": [
    "#做出左右顛倒上下相反的圖片了~~~~~~~~~"
   ]
  }
 ],
 "metadata": {
  "kernelspec": {
   "display_name": "Python 3",
   "language": "python",
   "name": "python3"
  },
  "language_info": {
   "codemirror_mode": {
    "name": "ipython",
    "version": 3
   },
   "file_extension": ".py",
   "mimetype": "text/x-python",
   "name": "python",
   "nbconvert_exporter": "python",
   "pygments_lexer": "ipython3",
   "version": "3.7.4"
  }
 },
 "nbformat": 4,
 "nbformat_minor": 2
}
