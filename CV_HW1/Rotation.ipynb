{
 "cells": [
  {
   "cell_type": "code",
   "execution_count": 1,
   "metadata": {},
   "outputs": [],
   "source": [
    "import numpy as np\n",
    "import cv2\n"
   ]
  },
  {
   "cell_type": "code",
   "execution_count": 2,
   "metadata": {},
   "outputs": [],
   "source": [
    "img = cv2.imread('lena.bmp')\n",
    "\n",
    "#List = ['img_r','img_g','img_b']\n",
    "\n",
    "img_r = np.zeros([512,512,1])\n",
    "\n",
    "for j in range(512):\n",
    "    for k in range(512):\n",
    "        img_r[k][j][0] = img[k][j][0]\n",
    "        \n",
    "img_g = np.zeros([512,512,1])\n",
    "\n",
    "for j in range(512):\n",
    "    for k in range(512):\n",
    "        img_g[k][j][0] = img[k][j][1]\n",
    "\n",
    "img_b = np.zeros([512,512,1])\n",
    "\n",
    "for j in range(512):\n",
    "    for k in range(512):\n",
    "        img_b[k][j][0] = img[k][j][2]"
   ]
  },
  {
   "cell_type": "code",
   "execution_count": 3,
   "metadata": {},
   "outputs": [],
   "source": [
    "h = 512\n",
    "w = 512\n",
    "center = (h/2,w/2)\n",
    "angle = 315\n",
    "scale = 0.7\n",
    "\n",
    "\n",
    "M = cv2.getRotationMatrix2D(center, angle, scale)\n",
    "rotated45_r = cv2.warpAffine(img_r, M, (w, h))\n",
    "\n",
    "M = cv2.getRotationMatrix2D(center, angle, scale)\n",
    "rotated45_g = cv2.warpAffine(img_g, M, (w, h))\n",
    "\n",
    "M = cv2.getRotationMatrix2D(center, angle, scale)\n",
    "rotated45_b = cv2.warpAffine(img_b, M, (w, h))\n",
    "\n",
    "threechannel = np.zeros([512,512,3])\n",
    "\n",
    "rotated45_r = np.expand_dims(rotated45_r, axis=2)\n",
    "\n",
    "rotated45_g = np.expand_dims(rotated45_r, axis=2)\n",
    "\n",
    "rotated45_b = np.expand_dims(rotated45_r, axis=2)\n",
    "\n",
    "for i in range(512):\n",
    "    for j in range(512):\n",
    "        threechannel[i][j][0] = rotated45_r[i][j][0]\n",
    "\n",
    "for i in range(512):\n",
    "    for j in range(512):\n",
    "        threechannel[i][j][1] = rotated45_g[i][j][0]\n",
    "        \n",
    "for i in range(512):\n",
    "    for j in range(512):\n",
    "        threechannel[i][j][2] = rotated45_b[i][j][0]\n"
   ]
  },
  {
   "cell_type": "code",
   "execution_count": 4,
   "metadata": {},
   "outputs": [
    {
     "data": {
      "text/plain": [
       "-1"
      ]
     },
     "execution_count": 4,
     "metadata": {},
     "output_type": "execute_result"
    }
   ],
   "source": [
    "cv2.imwrite('img_rotated45.bmp',threechannel)\n",
    "img_rotated45 = cv2.imread('img_rotated45.bmp')\n",
    "cv2.imshow('img_rotated45',img_rotated45)\n",
    "cv2.waitKey(0)"
   ]
  },
  {
   "cell_type": "code",
   "execution_count": 9,
   "metadata": {},
   "outputs": [],
   "source": [
    "#非常粗糙的寫法\n",
    "#回去看看有沒有可能把r g b 寫成for迴圈, 或是試試看可不可以直接rotate3D,不然先轉成rgb再一張一張旋轉很麻煩,之後還要拼回去成3D...\n",
    "#旋轉那邊scale也是很粗糙,為了怕切到而調整,但是不是剛好切齊..."
   ]
  },
  {
   "cell_type": "code",
   "execution_count": null,
   "metadata": {},
   "outputs": [],
   "source": []
  }
 ],
 "metadata": {
  "kernelspec": {
   "display_name": "Python 3",
   "language": "python",
   "name": "python3"
  },
  "language_info": {
   "codemirror_mode": {
    "name": "ipython",
    "version": 3
   },
   "file_extension": ".py",
   "mimetype": "text/x-python",
   "name": "python",
   "nbconvert_exporter": "python",
   "pygments_lexer": "ipython3",
   "version": "3.7.4"
  }
 },
 "nbformat": 4,
 "nbformat_minor": 2
}
