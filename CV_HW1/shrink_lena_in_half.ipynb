{
 "cells": [
  {
   "cell_type": "code",
   "execution_count": 153,
   "metadata": {},
   "outputs": [],
   "source": [
    "import numpy as np\n",
    "import cv2"
   ]
  },
  {
   "cell_type": "code",
   "execution_count": 154,
   "metadata": {},
   "outputs": [],
   "source": [
    "def Oimgshow():\n",
    "    img = cv2.imread('lena.bmp')\n",
    "    cv2.imshow('img',img)\n",
    "    cv2.waitKey(0)"
   ]
  },
  {
   "cell_type": "code",
   "execution_count": 155,
   "metadata": {},
   "outputs": [],
   "source": [
    "#ratio = input('please input your zoom in/out ratio')\n",
    "#print('your zoom in/out ratio', ratio) "
   ]
  },
  {
   "cell_type": "code",
   "execution_count": 156,
   "metadata": {},
   "outputs": [
    {
     "name": "stdout",
     "output_type": "stream",
     "text": [
      "[[[162 162 162]\n",
      "  [162 162 162]\n",
      "  [162 162 162]\n",
      "  ...\n",
      "  [170 170 170]\n",
      "  [155 155 155]\n",
      "  [128 128 128]]\n",
      "\n",
      " [[162 162 162]\n",
      "  [162 162 162]\n",
      "  [162 162 162]\n",
      "  ...\n",
      "  [170 170 170]\n",
      "  [155 155 155]\n",
      "  [128 128 128]]\n",
      "\n",
      " [[162 162 162]\n",
      "  [162 162 162]\n",
      "  [162 162 162]\n",
      "  ...\n",
      "  [170 170 170]\n",
      "  [155 155 155]\n",
      "  [128 128 128]]\n",
      "\n",
      " ...\n",
      "\n",
      " [[ 43  43  43]\n",
      "  [ 43  43  43]\n",
      "  [ 50  50  50]\n",
      "  ...\n",
      "  [104 104 104]\n",
      "  [100 100 100]\n",
      "  [ 98  98  98]]\n",
      "\n",
      " [[ 44  44  44]\n",
      "  [ 44  44  44]\n",
      "  [ 55  55  55]\n",
      "  ...\n",
      "  [104 104 104]\n",
      "  [105 105 105]\n",
      "  [108 108 108]]\n",
      "\n",
      " [[ 44  44  44]\n",
      "  [ 44  44  44]\n",
      "  [ 55  55  55]\n",
      "  ...\n",
      "  [104 104 104]\n",
      "  [105 105 105]\n",
      "  [108 108 108]]]\n"
     ]
    }
   ],
   "source": [
    "img = cv2.imread('lena.bmp')\n",
    "np.shape(img)\n",
    "\n",
    "print(img)"
   ]
  },
  {
   "cell_type": "code",
   "execution_count": 157,
   "metadata": {},
   "outputs": [
    {
     "name": "stdout",
     "output_type": "stream",
     "text": [
      "[[[5. 2. 5.]\n",
      "  [8. 3. 6.]\n",
      "  [2. 6. 5.]\n",
      "  [4. 3. 3.]]\n",
      "\n",
      " [[7. 4. 6.]\n",
      "  [3. 6. 5.]\n",
      "  [4. 7. 3.]\n",
      "  [5. 2. 4.]]\n",
      "\n",
      " [[4. 6. 4.]\n",
      "  [6. 3. 2.]\n",
      "  [2. 2. 3.]\n",
      "  [6. 4. 4.]]\n",
      "\n",
      " [[6. 8. 5.]\n",
      "  [6. 7. 4.]\n",
      "  [2. 2. 2.]\n",
      "  [5. 4. 6.]]]\n"
     ]
    }
   ],
   "source": [
    "#test\n",
    "a = np.random.randint(10, size=(8,8,3))\n",
    "b = np.zeros([4,8,3])\n",
    "b2 = np.zeros([4,4,3])\n",
    "\n",
    "for k in range(3):\n",
    "    for j in range (8):\n",
    "        for i in range (0,8,2):\n",
    "            b[round(i/2)][j][k] = round((a[i][j][k]+a[i+1][j][k])/2) \n",
    "            \n",
    "for k in range(3):\n",
    "    for j in range (4):\n",
    "        for i in range (0,8,2):\n",
    "            b2[j][round(i/2)][k] = round((b[j][i][k]+b[j][i+1][k])/2) \n",
    "            \n",
    "print(b2)"
   ]
  },
  {
   "cell_type": "code",
   "execution_count": 158,
   "metadata": {},
   "outputs": [],
   "source": [
    "#test end -> 用平均法沒問題啊"
   ]
  },
  {
   "cell_type": "code",
   "execution_count": 159,
   "metadata": {},
   "outputs": [
    {
     "name": "stdout",
     "output_type": "stream",
     "text": [
      "[[[162. 162. 162.]\n",
      "  [162. 162. 162.]\n",
      "  [162. 162. 162.]\n",
      "  ...\n",
      "  [170. 170. 170.]\n",
      "  [155. 155. 155.]\n",
      "  [128. 128. 128.]]\n",
      "\n",
      " [[162. 162. 162.]\n",
      "  [162. 162. 162.]\n",
      "  [162. 162. 162.]\n",
      "  ...\n",
      "  [170. 170. 170.]\n",
      "  [155. 155. 155.]\n",
      "  [128. 128. 128.]]\n",
      "\n",
      " [[163. 163. 163.]\n",
      "  [163. 163. 163.]\n",
      "  [160. 160. 160.]\n",
      "  ...\n",
      "  [147. 147. 147.]\n",
      "  [129. 129. 129.]\n",
      "  [102. 102. 102.]]\n",
      "\n",
      " ...\n",
      "\n",
      " [[ 51.  51.  51.]\n",
      "  [ 51.  51.  51.]\n",
      "  [ 52.  52.  52.]\n",
      "  ...\n",
      "  [ 92.  92.  92.]\n",
      "  [ 91.  91.  91.]\n",
      "  [ 92.  92.  92.]]\n",
      "\n",
      " [[ 44.  44.  44.]\n",
      "  [ 44.  44.  44.]\n",
      "  [ 50.  50.  50.]\n",
      "  ...\n",
      "  [103. 103. 103.]\n",
      "  [ 99.  99.  99.]\n",
      "  [ 97.  97.  97.]]\n",
      "\n",
      " [[ 44.  44.  44.]\n",
      "  [ 44.  44.  44.]\n",
      "  [ 55.  55.  55.]\n",
      "  ...\n",
      "  [104. 104. 104.]\n",
      "  [105. 105. 105.]\n",
      "  [108. 108. 108.]]]\n"
     ]
    }
   ],
   "source": [
    "#create a tensor \n",
    "new_img = np.zeros([256,512,3])\n",
    "\n",
    "for k in range(3):\n",
    "    for j in range (512):\n",
    "        for i in range (0,512,2):\n",
    "            new_img[round(i/2)][j][k] = round(((img[i][j][k])/2+(img[i+1][j][k])/2)) \n",
    "            #會怪怪的原來是因為影像溢位阿(pixel 灰階值只能是0~255!,所以先相加會超過255,因此選擇先除2在相加)\n",
    "                                              \n",
    "print(new_img)\n",
    "    "
   ]
  },
  {
   "cell_type": "code",
   "execution_count": 160,
   "metadata": {},
   "outputs": [
    {
     "name": "stdout",
     "output_type": "stream",
     "text": [
      "[[[162. 162. 162.]\n",
      "  [162. 162. 162.]\n",
      "  [160. 160. 160.]\n",
      "  ...\n",
      "  [169. 169. 169.]\n",
      "  [170. 170. 170.]\n",
      "  [142. 142. 142.]]\n",
      "\n",
      " [[162. 162. 162.]\n",
      "  [162. 162. 162.]\n",
      "  [160. 160. 160.]\n",
      "  ...\n",
      "  [169. 169. 169.]\n",
      "  [170. 170. 170.]\n",
      "  [142. 142. 142.]]\n",
      "\n",
      " [[163. 163. 163.]\n",
      "  [159. 159. 159.]\n",
      "  [160. 160. 160.]\n",
      "  ...\n",
      "  [158. 158. 158.]\n",
      "  [151. 151. 151.]\n",
      "  [116. 116. 116.]]\n",
      "\n",
      " ...\n",
      "\n",
      " [[ 51.  51.  51.]\n",
      "  [ 51.  51.  51.]\n",
      "  [ 54.  54.  54.]\n",
      "  ...\n",
      "  [ 82.  82.  82.]\n",
      "  [ 93.  93.  93.]\n",
      "  [ 92.  92.  92.]]\n",
      "\n",
      " [[ 44.  44.  44.]\n",
      "  [ 49.  49.  49.]\n",
      "  [ 50.  50.  50.]\n",
      "  ...\n",
      "  [ 92.  92.  92.]\n",
      "  [102. 102. 102.]\n",
      "  [ 98.  98.  98.]]\n",
      "\n",
      " [[ 44.  44.  44.]\n",
      "  [ 53.  53.  53.]\n",
      "  [ 50.  50.  50.]\n",
      "  ...\n",
      "  [101. 101. 101.]\n",
      "  [102. 102. 102.]\n",
      "  [106. 106. 106.]]]\n"
     ]
    }
   ],
   "source": [
    "new_img2 = np.zeros([256,256,3])\n",
    "\n",
    "for k in range(3):\n",
    "    for j in range (256):\n",
    "        for i in range (0,512,2):\n",
    "            new_img2[j][round(i/2)][k] = round((new_img[j][i][k])/2 + (new_img[j][i+1][k])/2 ) \n",
    "            #column好像沒有溢位的問題,但還是照做一下吧\n",
    "print(new_img2)"
   ]
  },
  {
   "cell_type": "code",
   "execution_count": 161,
   "metadata": {},
   "outputs": [
    {
     "data": {
      "text/plain": [
       "-1"
      ]
     },
     "execution_count": 161,
     "metadata": {},
     "output_type": "execute_result"
    }
   ],
   "source": [
    "cv2.imwrite('shrink_lena_in_half.bmp',new_img2)\n",
    "img = cv2.imread('shrink_lena_in_half.bmp')\n",
    "cv2.imshow('shrink_lena_in_half',img)\n",
    "cv2.waitKey(0)"
   ]
  },
  {
   "cell_type": "code",
   "execution_count": null,
   "metadata": {},
   "outputs": [],
   "source": []
  }
 ],
 "metadata": {
  "kernelspec": {
   "display_name": "Python 3",
   "language": "python",
   "name": "python3"
  },
  "language_info": {
   "codemirror_mode": {
    "name": "ipython",
    "version": 3
   },
   "file_extension": ".py",
   "mimetype": "text/x-python",
   "name": "python",
   "nbconvert_exporter": "python",
   "pygments_lexer": "ipython3",
   "version": "3.7.4"
  }
 },
 "nbformat": 4,
 "nbformat_minor": 2
}
