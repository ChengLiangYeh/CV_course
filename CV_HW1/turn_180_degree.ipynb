{
 "cells": [
  {
   "cell_type": "code",
   "execution_count": 2,
   "metadata": {},
   "outputs": [],
   "source": [
    "import numpy as np\n",
    "import cv2"
   ]
  },
  {
   "cell_type": "code",
   "execution_count": 3,
   "metadata": {},
   "outputs": [
    {
     "name": "stdout",
     "output_type": "stream",
     "text": [
      "[[[162 162 162]\n",
      "  [162 162 162]\n",
      "  [162 162 162]\n",
      "  ...\n",
      "  [170 170 170]\n",
      "  [155 155 155]\n",
      "  [128 128 128]]\n",
      "\n",
      " [[162 162 162]\n",
      "  [162 162 162]\n",
      "  [162 162 162]\n",
      "  ...\n",
      "  [170 170 170]\n",
      "  [155 155 155]\n",
      "  [128 128 128]]\n",
      "\n",
      " [[162 162 162]\n",
      "  [162 162 162]\n",
      "  [162 162 162]\n",
      "  ...\n",
      "  [170 170 170]\n",
      "  [155 155 155]\n",
      "  [128 128 128]]\n",
      "\n",
      " ...\n",
      "\n",
      " [[ 43  43  43]\n",
      "  [ 43  43  43]\n",
      "  [ 50  50  50]\n",
      "  ...\n",
      "  [104 104 104]\n",
      "  [100 100 100]\n",
      "  [ 98  98  98]]\n",
      "\n",
      " [[ 44  44  44]\n",
      "  [ 44  44  44]\n",
      "  [ 55  55  55]\n",
      "  ...\n",
      "  [104 104 104]\n",
      "  [105 105 105]\n",
      "  [108 108 108]]\n",
      "\n",
      " [[ 44  44  44]\n",
      "  [ 44  44  44]\n",
      "  [ 55  55  55]\n",
      "  ...\n",
      "  [104 104 104]\n",
      "  [105 105 105]\n",
      "  [108 108 108]]]\n"
     ]
    }
   ],
   "source": [
    "img = cv2.imread('lena.bmp')\n",
    "cv2.imshow('lena',img)\n",
    "cv2.waitKey(0)\n",
    "#imshow 記得要add waitKey or dead\n",
    "img.shape\n",
    "\n",
    "#print(img)\n"
   ]
  },
  {
   "cell_type": "code",
   "execution_count": 4,
   "metadata": {},
   "outputs": [
    {
     "name": "stdout",
     "output_type": "stream",
     "text": [
      "[[[162]\n",
      "  [162]\n",
      "  [162]\n",
      "  ...\n",
      "  [108]\n",
      "  [108]\n",
      "  [108]]]\n"
     ]
    }
   ],
   "source": [
    "img_line = np.reshape(img,(1,786432,1))\n",
    "print(img_line)"
   ]
  },
  {
   "cell_type": "code",
   "execution_count": 5,
   "metadata": {},
   "outputs": [
    {
     "name": "stdout",
     "output_type": "stream",
     "text": [
      "[[[0.]\n",
      "  [0.]\n",
      "  [0.]\n",
      "  ...\n",
      "  [0.]\n",
      "  [0.]\n",
      "  [0.]]]\n"
     ]
    }
   ],
   "source": [
    "storage_space = np.linspace(0,786432,1)\n",
    "storage_space.resize(1,786432,1)\n",
    "print(storage_space)"
   ]
  },
  {
   "cell_type": "code",
   "execution_count": 11,
   "metadata": {},
   "outputs": [
    {
     "name": "stdout",
     "output_type": "stream",
     "text": [
      "[[[108. 108. 108.]\n",
      "  [105. 105. 105.]\n",
      "  [104. 104. 104.]\n",
      "  ...\n",
      "  [ 55.  55.  55.]\n",
      "  [ 44.  44.  44.]\n",
      "  [ 44.  44.  44.]]\n",
      "\n",
      " [[108. 108. 108.]\n",
      "  [105. 105. 105.]\n",
      "  [104. 104. 104.]\n",
      "  ...\n",
      "  [ 55.  55.  55.]\n",
      "  [ 44.  44.  44.]\n",
      "  [ 44.  44.  44.]]\n",
      "\n",
      " [[ 98.  98.  98.]\n",
      "  [100. 100. 100.]\n",
      "  [104. 104. 104.]\n",
      "  ...\n",
      "  [ 50.  50.  50.]\n",
      "  [ 43.  43.  43.]\n",
      "  [ 43.  43.  43.]]\n",
      "\n",
      " ...\n",
      "\n",
      " [[128. 128. 128.]\n",
      "  [155. 155. 155.]\n",
      "  [170. 170. 170.]\n",
      "  ...\n",
      "  [162. 162. 162.]\n",
      "  [162. 162. 162.]\n",
      "  [162. 162. 162.]]\n",
      "\n",
      " [[128. 128. 128.]\n",
      "  [155. 155. 155.]\n",
      "  [170. 170. 170.]\n",
      "  ...\n",
      "  [162. 162. 162.]\n",
      "  [162. 162. 162.]\n",
      "  [162. 162. 162.]]\n",
      "\n",
      " [[128. 128. 128.]\n",
      "  [155. 155. 155.]\n",
      "  [170. 170. 170.]\n",
      "  ...\n",
      "  [162. 162. 162.]\n",
      "  [162. 162. 162.]\n",
      "  [162. 162. 162.]]]\n"
     ]
    },
    {
     "data": {
      "text/plain": [
       "-1"
      ]
     },
     "execution_count": 11,
     "metadata": {},
     "output_type": "execute_result"
    }
   ],
   "source": [
    "for i in range (786431):\n",
    "    storage_space[0][i][0] = img_line[0][abs(i-786431)][0]\n",
    "storage_space[0][786431][0] = img_line[0][0][0]\n",
    "new_image = np.reshape(storage_space,(512,512,3))\n",
    "print(new_image)\n",
    "\n",
    "#type(new_image)\n",
    "#new_image.shape\n",
    "\n",
    "cv2.imwrite('new_image.bmp', new_image)\n",
    "\n",
    "new_image = cv2.imread('new_image.bmp')\n",
    "\n",
    "cv2.imshow('new_image',new_image)\n",
    "\n",
    "cv2.waitKey(0)\n"
   ]
  },
  {
   "cell_type": "code",
   "execution_count": null,
   "metadata": {},
   "outputs": [],
   "source": []
  },
  {
   "cell_type": "code",
   "execution_count": null,
   "metadata": {},
   "outputs": [],
   "source": []
  }
 ],
 "metadata": {
  "kernelspec": {
   "display_name": "Python 3",
   "language": "python",
   "name": "python3"
  },
  "language_info": {
   "codemirror_mode": {
    "name": "ipython",
    "version": 3
   },
   "file_extension": ".py",
   "mimetype": "text/x-python",
   "name": "python",
   "nbconvert_exporter": "python",
   "pygments_lexer": "ipython3",
   "version": "3.7.4"
  }
 },
 "nbformat": 4,
 "nbformat_minor": 2
}
