{
 "cells": [
  {
   "cell_type": "code",
   "execution_count": 1,
   "metadata": {},
   "outputs": [],
   "source": [
    "import numpy as np\n",
    "import cv2\n",
    "np.set_printoptions(threshold=np.inf)"
   ]
  },
  {
   "cell_type": "code",
   "execution_count": 2,
   "metadata": {},
   "outputs": [],
   "source": [
    "img = cv2.imread('lena.bmp',cv2.IMREAD_GRAYSCALE)\n",
    "img = img.astype(np.float64)\n",
    "#防止overfitting\n",
    "afterLOG_img = np.zeros([512,512])\n",
    "afterzerocrossing_img = np.zeros([512,512])"
   ]
  },
  {
   "cell_type": "code",
   "execution_count": 3,
   "metadata": {},
   "outputs": [],
   "source": [
    "def LOG(img,threshold):\n",
    "    kernal = [[0,0,0,-1,-1,-2,-1,-1,0,0,0],\n",
    "              [0,0,-2,-4,-8,-9,-8,-4,-2,0,0],\n",
    "              [0,-2,-7,-15,-22,-23,-22,-15,-7,-2,0],\n",
    "              [-1,-4,-15,-24,-14,-1,-14,-24,-15,-4,-1],\n",
    "              [-1,-8,-22,-14,52,103,52,-14,-22,-8,-1],\n",
    "              [-2,-9,-23,-1,103,178,103,-1,-23,-9,-2],\n",
    "              [-1,-8,-22,-14,52,103,52,-14,-22,-8,-1],\n",
    "              [-1,-4,-15,-24,-14,-1,-14,-24,-15,-4,-1],\n",
    "              [0,-2,-7,-15,-22,-23,-22,-15,-7,-2,0],\n",
    "              [0,0,-2,-4,-8,-9,-8,-4,-2,0,0],\n",
    "              [0,0,0,-1,-1,-2,-1,-1,0,0,0]\n",
    "             ]\n",
    "    \n",
    "    for row in range(5,507):\n",
    "        for col in range(5,507):\n",
    "            matrix = img[row-5:row+6,col-5:col+6]\n",
    "            temp = matrix * kernal\n",
    "            value = sum(sum(temp))\n",
    "            \n",
    "            if value > 0 and value >= threshold:\n",
    "                afterLOG_img[row][col] = 1\n",
    "                value = 0\n",
    "            elif value < 0 and value <= threshold:\n",
    "                afterLOG_img[row][col] = -1\n",
    "                value = 0\n",
    "            else:\n",
    "                afterLOG_img[row][col] = 0 \n",
    "                value = 0\n",
    "                \n",
    "    return afterLOG_img         \n",
    "\n",
    "def zerocrossing(afterLOG_img):\n",
    "    for row in range(5,507):\n",
    "        for col in range(5,507):\n",
    "            if afterLOG_img[row][col] == 1:\n",
    "                temp_matrix = afterLOG_img[row-5:row+6,col-5:col+6]\n",
    "                finded = False\n",
    "                for i in range(11):\n",
    "                    for j in range(11):\n",
    "                        if temp_matrix[i][j] == -1:\n",
    "                            finded = True\n",
    "                            break\n",
    "                if finded == True:            \n",
    "                    afterzerocrossing_img[row][col] = 0\n",
    "            else:\n",
    "                afterzerocrossing_img[row][col] = 255\n",
    "                \n",
    "    return afterzerocrossing_img"
   ]
  },
  {
   "cell_type": "code",
   "execution_count": 4,
   "metadata": {},
   "outputs": [],
   "source": [
    "afterLOG_img = LOG(img,3000)"
   ]
  },
  {
   "cell_type": "code",
   "execution_count": 5,
   "metadata": {},
   "outputs": [],
   "source": [
    "final_img = zerocrossing(afterLOG_img)"
   ]
  },
  {
   "cell_type": "code",
   "execution_count": 6,
   "metadata": {},
   "outputs": [
    {
     "data": {
      "text/plain": [
       "-1"
      ]
     },
     "execution_count": 6,
     "metadata": {},
     "output_type": "execute_result"
    }
   ],
   "source": [
    "cv2.imshow('final_img',final_img)\n",
    "cv2.waitKey()"
   ]
  },
  {
   "cell_type": "code",
   "execution_count": 7,
   "metadata": {},
   "outputs": [
    {
     "data": {
      "text/plain": [
       "True"
      ]
     },
     "execution_count": 7,
     "metadata": {},
     "output_type": "execute_result"
    }
   ],
   "source": [
    "cv2.imwrite('laplacian_of_gaussian.bmp',final_img)"
   ]
  },
  {
   "cell_type": "code",
   "execution_count": null,
   "metadata": {},
   "outputs": [],
   "source": []
  }
 ],
 "metadata": {
  "kernelspec": {
   "display_name": "Python 3",
   "language": "python",
   "name": "python3"
  },
  "language_info": {
   "codemirror_mode": {
    "name": "ipython",
    "version": 3
   },
   "file_extension": ".py",
   "mimetype": "text/x-python",
   "name": "python",
   "nbconvert_exporter": "python",
   "pygments_lexer": "ipython3",
   "version": "3.7.4"
  }
 },
 "nbformat": 4,
 "nbformat_minor": 2
}
