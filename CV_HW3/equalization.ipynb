{
 "cells": [
  {
   "cell_type": "code",
   "execution_count": 1,
   "metadata": {},
   "outputs": [],
   "source": [
    "import numpy as np\n",
    "import cv2\n",
    "import matplotlib\n",
    "import matplotlib.pyplot as plt"
   ]
  },
  {
   "cell_type": "code",
   "execution_count": 2,
   "metadata": {},
   "outputs": [
    {
     "data": {
      "text/plain": [
       "-1"
      ]
     },
     "execution_count": 2,
     "metadata": {},
     "output_type": "execute_result"
    }
   ],
   "source": [
    "img = cv2.imread('intensity_divided3_img.bmp',cv2.IMREAD_GRAYSCALE)\n",
    "cv2.imshow('intensity_divided3_img',img)\n",
    "cv2.waitKey(0)\n",
    "#print(img)"
   ]
  },
  {
   "cell_type": "code",
   "execution_count": 3,
   "metadata": {},
   "outputs": [],
   "source": [
    "index = np.zeros([256])\n",
    "for row in range(512):\n",
    "    for column in range(512):\n",
    "        grayvalue = img[row][column]\n",
    "        index[grayvalue] = index[grayvalue] + 1\n",
    "\n",
    "cdf = np.zeros([256])\n",
    "for i in range(256):\n",
    "    if i == 0:\n",
    "        cdf[i] = index[i]\n",
    "        tem = index[i]\n",
    "    else:\n",
    "        tem = tem + index[i] \n",
    "        cdf[i] = tem\n",
    "\n",
    "          "
   ]
  },
  {
   "cell_type": "code",
   "execution_count": 4,
   "metadata": {},
   "outputs": [
    {
     "name": "stdout",
     "output_type": "stream",
     "text": [
      "[  0.   0.   0.   0.   0.   0.   0.   0.   0.   0.   0.   1.   3.   5.\n",
      "   9.  15.  21.  27.  32.  36.  40.  42.  45.  47.  49.  52.  55.  57.\n",
      "  60.  63.  66.  70.  75.  81.  86.  91.  95.  99. 103. 108. 113. 118.\n",
      " 125. 132. 138. 144. 150. 156. 163. 170. 177. 184. 192. 198. 204. 208.\n",
      " 211. 215. 218. 222. 224. 226. 228. 230. 233. 236. 238. 241. 243. 246.\n",
      " 249. 252. 253. 254. 255. 255. 255. 255. 255. 255. 255. 255. 255. 255.\n",
      " 255. 255. 255. 255. 255. 255. 255. 255. 255. 255. 255. 255. 255. 255.\n",
      " 255. 255. 255. 255. 255. 255. 255. 255. 255. 255. 255. 255. 255. 255.\n",
      " 255. 255. 255. 255. 255. 255. 255. 255. 255. 255. 255. 255. 255. 255.\n",
      " 255. 255. 255. 255. 255. 255. 255. 255. 255. 255. 255. 255. 255. 255.\n",
      " 255. 255. 255. 255. 255. 255. 255. 255. 255. 255. 255. 255. 255. 255.\n",
      " 255. 255. 255. 255. 255. 255. 255. 255. 255. 255. 255. 255. 255. 255.\n",
      " 255. 255. 255. 255. 255. 255. 255. 255. 255. 255. 255. 255. 255. 255.\n",
      " 255. 255. 255. 255. 255. 255. 255. 255. 255. 255. 255. 255. 255. 255.\n",
      " 255. 255. 255. 255. 255. 255. 255. 255. 255. 255. 255. 255. 255. 255.\n",
      " 255. 255. 255. 255. 255. 255. 255. 255. 255. 255. 255. 255. 255. 255.\n",
      " 255. 255. 255. 255. 255. 255. 255. 255. 255. 255. 255. 255. 255. 255.\n",
      " 255. 255. 255. 255. 255. 255. 255. 255. 255. 255. 255. 255. 255. 255.\n",
      " 255. 255. 255. 255.]\n"
     ]
    }
   ],
   "source": [
    "index_2 = np.zeros([256]) #轉換表: index是o~255 灰階 , value是指轉換後的灰階值\n",
    "\n",
    "for i in range(256):\n",
    "     index_2[i] = int(round(((cdf[i] - 1) / 262143) * 255))\n",
    "print(index_2)\n"
   ]
  },
  {
   "cell_type": "code",
   "execution_count": 5,
   "metadata": {},
   "outputs": [
    {
     "name": "stdout",
     "output_type": "stream",
     "text": [
      "[[54 54 54 ... 57 52 43]\n",
      " [54 54 54 ... 57 52 43]\n",
      " [54 54 54 ... 57 52 43]\n",
      " ...\n",
      " [14 14 17 ... 35 33 33]\n",
      " [15 15 18 ... 35 35 36]\n",
      " [15 15 18 ... 35 35 36]]\n",
      "[[204 204 204 ... 215 192 132]\n",
      " [204 204 204 ... 215 192 132]\n",
      " [204 204 204 ... 215 192 132]\n",
      " ...\n",
      " [  9   9  27 ...  91  81  81]\n",
      " [ 15  15  32 ...  91  91  95]\n",
      " [ 15  15  32 ...  91  91  95]]\n"
     ]
    }
   ],
   "source": [
    "print(img)\n",
    "\n",
    "for i in range(512):\n",
    "    for j in range(512):\n",
    "        value = img[i][j]\n",
    "        img[i][j] = index_2[value]\n",
    "print(img)"
   ]
  },
  {
   "cell_type": "code",
   "execution_count": 6,
   "metadata": {},
   "outputs": [
    {
     "data": {
      "text/plain": [
       "-1"
      ]
     },
     "execution_count": 6,
     "metadata": {},
     "output_type": "execute_result"
    }
   ],
   "source": [
    "cv2.imwrite('equal_img.bmp', img)\n",
    "equal_img = cv2.imread('equal_img.bmp')\n",
    "cv2.imshow('equal_img',equal_img)\n",
    "cv2.waitKey(0)"
   ]
  },
  {
   "cell_type": "code",
   "execution_count": 7,
   "metadata": {},
   "outputs": [
    {
     "data": {
      "image/png": "[encoded data removed]",
      "text/plain": [
       "<Figure size 432x288 with 1 Axes>"
      ]
     },
     "metadata": {
      "needs_background": "light"
     },
     "output_type": "display_data"
    }
   ],
   "source": [
    "index = np.zeros([256])\n",
    "\n",
    "for row in range(512):\n",
    "    for column in range(512):\n",
    "        value = equal_img[row][column]\n",
    "        index[value] = index[value] + 1\n",
    "\n",
    "x = np.zeros([256])     \n",
    "for i in range(256):\n",
    "    x[i] = i\n",
    "    \n",
    "y = index\n",
    "\n",
    "plt.bar(x, y, label = 'bars1')\n",
    "\n",
    "plt.xlabel(\"gray value\")\n",
    "\n",
    "plt.ylabel(\"number\")\n",
    "\n",
    "plt.title(\"histogram\")\n",
    "\n",
    "plt.savefig('equal_img_Histogram.png')\n",
    "\n",
    "plt.show()\n",
    "\n",
    "\n"
   ]
  },
  {
   "cell_type": "code",
   "execution_count": null,
   "metadata": {},
   "outputs": [],
   "source": []
  }
 ],
 "metadata": {
  "kernelspec": {
   "display_name": "Python 3",
   "language": "python",
   "name": "python3"
  },
  "language_info": {
   "codemirror_mode": {
    "name": "ipython",
    "version": 3
   },
   "file_extension": ".py",
   "mimetype": "text/x-python",
   "name": "python",
   "nbconvert_exporter": "python",
   "pygments_lexer": "ipython3",
   "version": "3.7.4"
  }
 },
 "nbformat": 4,
 "nbformat_minor": 2
}
