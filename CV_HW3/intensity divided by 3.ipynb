{
 "cells": [
  {
   "cell_type": "code",
   "execution_count": 1,
   "metadata": {},
   "outputs": [],
   "source": [
    "import numpy as np\n",
    "import cv2\n",
    "import matplotlib\n",
    "import matplotlib.pyplot as plt"
   ]
  },
  {
   "cell_type": "code",
   "execution_count": 2,
   "metadata": {},
   "outputs": [
    {
     "data": {
      "image/png": "[encoded data removed]",
      "text/plain": [
       "<Figure size 432x288 with 1 Axes>"
      ]
     },
     "metadata": {
      "needs_background": "light"
     },
     "output_type": "display_data"
    }
   ],
   "source": [
    "img = cv2.imread('lena.bmp',cv2.IMREAD_GRAYSCALE)\n",
    "\n",
    "for row in range(512):\n",
    "    for column in range(512):\n",
    "        value = img[row][column]\n",
    "        value = int(round(value/3))\n",
    "        img[row][column] = value\n",
    "        \n",
    "cv2.imwrite('intensity_divided3_img.bmp', img)\n",
    "intensity_divided3_img = cv2.imread('intensity_divided3_img.bmp')\n",
    "cv2.imshow('intensity_divided3_img',intensity_divided3_img)\n",
    "cv2.waitKey(0)\n",
    "\n",
    "\n",
    "#histogram\n",
    "index = np.zeros([256])\n",
    "\n",
    "for row in range(512):\n",
    "    for column in range(512):\n",
    "        value = intensity_divided3_img[row][column]\n",
    "        index[value] = index[value] + 1\n",
    "\n",
    "\n",
    "x = np.zeros([256])     #x軸\n",
    "for i in range(256):\n",
    "    x[i] = i\n",
    "    \n",
    "y = index\n",
    "\n",
    "plt.bar(x, y, label = 'bars1')\n",
    "\n",
    "plt.xlabel(\"gray value\")\n",
    "\n",
    "plt.ylabel(\"number\")\n",
    "\n",
    "plt.title(\"histogram\")\n",
    "\n",
    "plt.savefig('intensity_divided3_img_histogram.png')\n",
    "\n",
    "plt.show()\n",
    "\n",
    "        \n",
    "\n"
   ]
  },
  {
   "cell_type": "code",
   "execution_count": 5,
   "metadata": {},
   "outputs": [],
   "source": []
  },
  {
   "cell_type": "code",
   "execution_count": null,
   "metadata": {},
   "outputs": [],
   "source": []
  },
  {
   "cell_type": "code",
   "execution_count": null,
   "metadata": {},
   "outputs": [],
   "source": []
  },
  {
   "cell_type": "code",
   "execution_count": null,
   "metadata": {},
   "outputs": [],
   "source": []
  }
 ],
 "metadata": {
  "kernelspec": {
   "display_name": "Python 3",
   "language": "python",
   "name": "python3"
  },
  "language_info": {
   "codemirror_mode": {
    "name": "ipython",
    "version": 3
   },
   "file_extension": ".py",
   "mimetype": "text/x-python",
   "name": "python",
   "nbconvert_exporter": "python",
   "pygments_lexer": "ipython3",
   "version": "3.7.4"
  }
 },
 "nbformat": 4,
 "nbformat_minor": 2
}
