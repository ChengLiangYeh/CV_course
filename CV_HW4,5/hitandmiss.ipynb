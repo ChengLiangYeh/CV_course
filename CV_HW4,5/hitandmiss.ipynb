{
 "cells": [
  {
   "cell_type": "code",
   "execution_count": 1,
   "metadata": {},
   "outputs": [],
   "source": [
    "import numpy as np\n",
    "np.set_printoptions(threshold=np.inf)\n",
    "import cv2"
   ]
  },
  {
   "cell_type": "code",
   "execution_count": 2,
   "metadata": {},
   "outputs": [
    {
     "data": {
      "text/plain": [
       "True"
      ]
     },
     "execution_count": 2,
     "metadata": {},
     "output_type": "execute_result"
    }
   ],
   "source": [
    "img = cv2.imread('binarylena.bmp',cv2.IMREAD_GRAYSCALE)\n",
    "\n",
    "#img反白 = imgc\n",
    "imgc = np.zeros([512,512])\n",
    "\n",
    "for row in range(512):\n",
    "    for col in range(512):\n",
    "        if img[row][col] == 0:\n",
    "            imgc[row][col] = 255\n",
    "        else:\n",
    "            imgc[row][col] = 0\n",
    "            \n",
    "cv2.imshow('imgc',imgc)\n",
    "cv2.waitKey()\n",
    "cv2.imwrite('imgc.bmp',imgc)"
   ]
  },
  {
   "cell_type": "code",
   "execution_count": 3,
   "metadata": {},
   "outputs": [
    {
     "data": {
      "text/plain": [
       "-1"
      ]
     },
     "execution_count": 3,
     "metadata": {},
     "output_type": "execute_result"
    }
   ],
   "source": [
    "#A erosion J\n",
    "erosionimg = np.zeros([512,512])\n",
    "correct = 0\n",
    "\n",
    "for row in range(0,511):               \n",
    "    for col in range(1,512):\n",
    "        if img[row][col] == 255:\n",
    "            if img[row][col-1] == 255:\n",
    "                correct = correct + 1\n",
    "            if img[row+1][col] == 255:\n",
    "                correct = correct + 1\n",
    "                \n",
    "        if correct == 2: \n",
    "            erosionimg[row][col] = 255\n",
    "            correct = 0\n",
    "        else:\n",
    "            erosionimg[row][col] = 0\n",
    "            correct = 0        \n",
    "            \n",
    "cv2.imshow('erosionimg',erosionimg)\n",
    "cv2.waitKey()"
   ]
  },
  {
   "cell_type": "code",
   "execution_count": 4,
   "metadata": {},
   "outputs": [
    {
     "data": {
      "text/plain": [
       "-1"
      ]
     },
     "execution_count": 4,
     "metadata": {},
     "output_type": "execute_result"
    }
   ],
   "source": [
    "#Ac erosion K \n",
    "#沒有全對的話去掉，有全對的話補上\n",
    "#kernal中心不包含，要注意!\n",
    "\n",
    "erosionimgc = np.zeros([512,512])\n",
    "correct = 0\n",
    "\n",
    "for row in range(1,512):\n",
    "    for col in range(0,511):\n",
    "        if imgc[row][col+1] == 255:\n",
    "            correct = correct + 1\n",
    "        if imgc[row-1][col] == 255:\n",
    "            correct = correct + 1\n",
    "        if imgc[row-1][col+1] == 255:\n",
    "            correct = correct + 1\n",
    "        if correct == 3: \n",
    "            erosionimgc[row][col] = 255\n",
    "            correct = 0\n",
    "        else:\n",
    "            erosionimgc[row][col] = 0\n",
    "            correct = 0          \n",
    "cv2.imshow('erosionimgc',erosionimgc)\n",
    "cv2.waitKey()"
   ]
  },
  {
   "cell_type": "code",
   "execution_count": 5,
   "metadata": {},
   "outputs": [],
   "source": [
    "#A erosion J和Ac erosion K 兩個結果做交集\n",
    "#erosionimg \n",
    "#erosionimgc\n",
    "intersection = np.zeros([512,512])\n",
    "\n",
    "for row in range(512):\n",
    "    for col in range(512):\n",
    "        if erosionimg[row][col] == erosionimgc[row][col]:\n",
    "            intersection[row][col] = erosionimg[row][col]\n",
    "            "
   ]
  },
  {
   "cell_type": "code",
   "execution_count": 7,
   "metadata": {},
   "outputs": [
    {
     "data": {
      "text/plain": [
       "True"
      ]
     },
     "execution_count": 7,
     "metadata": {},
     "output_type": "execute_result"
    }
   ],
   "source": [
    "cv2.imshow('intersection',intersection)\n",
    "cv2.waitKey()\n",
    "cv2.imwrite('hitandmiss.bmp',intersection)"
   ]
  },
  {
   "cell_type": "code",
   "execution_count": null,
   "metadata": {},
   "outputs": [],
   "source": []
  }
 ],
 "metadata": {
  "kernelspec": {
   "display_name": "Python 3",
   "language": "python",
   "name": "python3"
  },
  "language_info": {
   "codemirror_mode": {
    "name": "ipython",
    "version": 3
   },
   "file_extension": ".py",
   "mimetype": "text/x-python",
   "name": "python",
   "nbconvert_exporter": "python",
   "pygments_lexer": "ipython3",
   "version": "3.7.4"
  }
 },
 "nbformat": 4,
 "nbformat_minor": 2
}
