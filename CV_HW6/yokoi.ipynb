{
 "cells": [
  {
   "cell_type": "code",
   "execution_count": 1,
   "metadata": {},
   "outputs": [],
   "source": [
    "import numpy as np\n",
    "import cv2"
   ]
  },
  {
   "cell_type": "code",
   "execution_count": 2,
   "metadata": {},
   "outputs": [
    {
     "data": {
      "text/plain": [
       "\"\\nimg = cv2.imread('binarylena.bmp',cv2.IMREAD_GRAYSCALE)\\n\\n#using 8x8 blocks as a unit,  take the topmost-left pixel as the down-sampled data, Down-sample Lena from 512x512 to 64x64\\nimgADS = np.zeros([64,64])\\nimg_row = list(range(0,512,8))\\nimg_col = list(range(0,512,8))\\nimgADS_row = list(range(0,64))\\nimgADS_col = list(range(0,64))\\n\\nfor img_row, imgADS_row in zip(img_row, imgADS_row):\\n    img_col = list(range(0,512,8))\\n    imgADS_col = list(range(0,64))\\n    for img_col, imgADS_col in zip(img_col, imgADS_col):\\n        imgADS[imgADS_row][imgADS_col] = img[img_row][img_col]\\n#手動疊代此block跳過\\n\""
      ]
     },
     "execution_count": 2,
     "metadata": {},
     "output_type": "execute_result"
    }
   ],
   "source": [
    "'''\n",
    "img = cv2.imread('binarylena.bmp',cv2.IMREAD_GRAYSCALE)\n",
    "\n",
    "#using 8x8 blocks as a unit,  take the topmost-left pixel as the down-sampled data, Down-sample Lena from 512x512 to 64x64\n",
    "imgADS = np.zeros([64,64])\n",
    "img_row = list(range(0,512,8))\n",
    "img_col = list(range(0,512,8))\n",
    "imgADS_row = list(range(0,64))\n",
    "imgADS_col = list(range(0,64))\n",
    "\n",
    "for img_row, imgADS_row in zip(img_row, imgADS_row):\n",
    "    img_col = list(range(0,512,8))\n",
    "    imgADS_col = list(range(0,64))\n",
    "    for img_col, imgADS_col in zip(img_col, imgADS_col):\n",
    "        imgADS[imgADS_row][imgADS_col] = img[img_row][img_col]\n",
    "#手動疊代此block跳過\n",
    "'''"
   ]
  },
  {
   "cell_type": "code",
   "execution_count": 3,
   "metadata": {},
   "outputs": [],
   "source": [
    "imgADS = cv2.imread('iteration6.bmp',cv2.IMREAD_GRAYSCALE) #手動疊代 EX:newiteration(X).bmp\n",
    "#print(imgADS)\n",
    "#cv2.imwrite('DSlena.bmp',imgADS)  #手動疊代時不用!，第一次做yokoi用的\n",
    "#cv2.imshow('imgADS',imgADS)\n",
    "#cv2.waitKey()"
   ]
  },
  {
   "cell_type": "code",
   "execution_count": 4,
   "metadata": {},
   "outputs": [],
   "source": [
    "#padding \n",
    "blankimg = np.zeros([66,66])\n",
    "\n",
    "for row in range(64):\n",
    "    for col in range(64):\n",
    "        blankimg[row+1][col+1] = imgADS[row][col]\n",
    "#print(blankimg)\n",
    "#print(np.shape(blankimg))\n",
    "#cv2.imshow('blankimg',blankimg)\n",
    "#cv2.waitKey()"
   ]
  },
  {
   "cell_type": "code",
   "execution_count": 5,
   "metadata": {},
   "outputs": [],
   "source": [
    "#Yokoi\n",
    "def h(b,c,d,e):\n",
    "    if b==c:\n",
    "        if d!=b or e!=b:\n",
    "            return 'q'\n",
    "        else:\n",
    "            return 'r'\n",
    "    else:\n",
    "        return 's'\n",
    "    \n",
    "totala1 = np.zeros([64,64])\n",
    "#a1(b,c,d,e)\n",
    "for row in range(64):\n",
    "    for col in range(64):\n",
    "        if blankimg[row+1][col+1] == 255:\n",
    "            b=blankimg[row+1][col+1]\n",
    "            c=blankimg[row+1][col+2]\n",
    "            d=blankimg[row][col+2]\n",
    "            e=blankimg[row][col+1]\n",
    "\n",
    "            a1 = h(b,c,d,e)\n",
    "            if a1 == 'q':\n",
    "                totala1[row][col]=1\n",
    "            elif a1 == 'r':\n",
    "                totala1[row][col]=2\n",
    "            else:\n",
    "                totala1[row][col]=3\n",
    "\n",
    "totala2 = np.zeros([64,64])\n",
    "#a2(b,c,d,e)\n",
    "for row in range(64):\n",
    "    for col in range(64):\n",
    "        if blankimg[row+1][col+1] == 255:\n",
    "            b=blankimg[row+1][col+1]\n",
    "            c=blankimg[row][col+1]\n",
    "            d=blankimg[row][col]\n",
    "            e=blankimg[row+1][col]\n",
    "\n",
    "            a2 = h(b,c,d,e)\n",
    "            if a2 == 'q':\n",
    "                totala2[row][col]=1\n",
    "            elif a2 == 'r':\n",
    "                totala2[row][col]=2\n",
    "            else:\n",
    "                totala2[row][col]=3\n",
    "\n",
    "totala3 = np.zeros([64,64])\n",
    "#a3(b,c,d,e)\n",
    "for row in range(64):\n",
    "    for col in range(64):\n",
    "        if blankimg[row+1][col+1] == 255:\n",
    "            b=blankimg[row+1][col+1]\n",
    "            c=blankimg[row+1][col]\n",
    "            d=blankimg[row+2][col]\n",
    "            e=blankimg[row+2][col+1]\n",
    "\n",
    "            a3 = h(b,c,d,e)\n",
    "            if a3 == 'q':\n",
    "                totala3[row][col]=1\n",
    "            elif a3 == 'r':\n",
    "                totala3[row][col]=2\n",
    "            else:\n",
    "                totala3[row][col]=3\n",
    "\n",
    "totala4 = np.zeros([64,64])\n",
    "#a4(b,c,d,e)\n",
    "for row in range(64):\n",
    "    for col in range(64):\n",
    "        if blankimg[row+1][col+1] == 255:\n",
    "            b=blankimg[row+1][col+1]\n",
    "            c=blankimg[row+2][col+1]\n",
    "            d=blankimg[row+2][col+2]\n",
    "            e=blankimg[row+1][col+2]\n",
    "\n",
    "            a4 = h(b,c,d,e)\n",
    "            if a4 == 'q':\n",
    "                totala4[row][col]=1\n",
    "            elif a4 == 'r':\n",
    "                totala4[row][col]=2\n",
    "            else:\n",
    "                totala4[row][col]=3\n",
    "            \n",
    "\n",
    "            \n",
    "        "
   ]
  },
  {
   "cell_type": "code",
   "execution_count": 6,
   "metadata": {},
   "outputs": [],
   "source": [
    "finalimg = np.zeros([64,64])\n",
    "for row in range(64):\n",
    "    for col in range(64):\n",
    "        \n",
    "        q=0\n",
    "        r=0\n",
    "        s=0\n",
    "        \n",
    "        if totala1[row][col]== 1:\n",
    "            q = q + 1\n",
    "        elif totala1[row][col]== 2:\n",
    "            r = r + 1\n",
    "        else:\n",
    "            s = s + 1\n",
    "            \n",
    "        if totala2[row][col]== 1:\n",
    "            q = q + 1\n",
    "        elif totala2[row][col]== 2:\n",
    "            r = r + 1\n",
    "        else:\n",
    "            s = s + 1\n",
    "        \n",
    "        if totala3[row][col]== 1:\n",
    "            q = q + 1\n",
    "        elif totala3[row][col]== 2:\n",
    "            r = r + 1\n",
    "        else:\n",
    "            s = s + 1\n",
    "            \n",
    "        if totala4[row][col]== 1:\n",
    "            q = q + 1\n",
    "        elif totala4[row][col]== 2:\n",
    "            r = r + 1\n",
    "        else:\n",
    "            s = s + 1\n",
    "            \n",
    "        #print('a1,a2,a3,a4=',totala1[row][col],totala2[row][col],totala3[row][col],totala4[row][col])\n",
    "        #print('numbers of q,r,s=',q,r,s)\n",
    "        \n",
    "        if q == 1 :\n",
    "            finalimg[row][col] = 1\n",
    "        elif q == 2 :\n",
    "            finalimg[row][col] = 2\n",
    "        elif q == 3 :\n",
    "            finalimg[row][col] = 3\n",
    "        elif q == 4 :\n",
    "            finalimg[row][col] = 4\n",
    "        elif r == 4 :\n",
    "            finalimg[row][col] = 5\n",
    "        else:\n",
    "            finalimg[row][col] = 0\n",
    "        #print('finalimg=',finalimg[row][col])"
   ]
  },
  {
   "cell_type": "code",
   "execution_count": 7,
   "metadata": {},
   "outputs": [],
   "source": [
    "np.set_printoptions(threshold=np.inf)\n",
    "#print(finalimg)"
   ]
  },
  {
   "cell_type": "code",
   "execution_count": 8,
   "metadata": {},
   "outputs": [],
   "source": [
    "for row in range(64):\n",
    "    for col in range(64):\n",
    "        finalimg[row][col] = int(finalimg[row][col])\n",
    "np.savetxt('afteriteration6.txt',finalimg)  #疊代手動改名字 EX:afteriteration(X).txt"
   ]
  },
  {
   "cell_type": "code",
   "execution_count": 9,
   "metadata": {
    "scrolled": false
   },
   "outputs": [
    {
     "data": {
      "text/plain": [
       "\"\\n#手動疊代不用跑這個block\\nfor row in range(64):\\n    for col in range(64):\\n        print(int(finalimg[row][col]), end=' ')\\n\""
      ]
     },
     "execution_count": 9,
     "metadata": {},
     "output_type": "execute_result"
    }
   ],
   "source": [
    "'''\n",
    "#手動疊代不用跑這個block\n",
    "for row in range(64):\n",
    "    for col in range(64):\n",
    "        print(int(finalimg[row][col]), end=' ')\n",
    "'''\n"
   ]
  },
  {
   "cell_type": "code",
   "execution_count": 10,
   "metadata": {},
   "outputs": [
    {
     "name": "stdout",
     "output_type": "stream",
     "text": [
      "1 1 1 1 1 1 1 1 0 0 0 0 0 0 0 0 1 2 1 1 1 1 1 1 1 1 1 1 2 2 3 2 2 2 2 1 0 0 0 0 0 1 1 1 1 1 1 1 1 1 1 1 1 0 0 0 0 0 0 0 0 0 0 0 1 5 5 5 5 5 5 1 0 0 0 0 0 0 0 0 0 1 1 5 5 5 5 5 5 5 5 1 1 0 2 0 1 1 0 0 1 1 0 0 0 1 1 5 5 5 5 5 5 5 5 5 1 1 0 0 0 0 0 0 0 0 0 0 1 5 5 5 5 5 5 1 0 0 0 0 0 0 0 0 1 0 2 1 1 5 5 5 5 1 1 2 0 0 2 1 1 1 2 2 2 1 0 0 0 0 1 5 5 5 5 5 5 5 5 5 5 1 0 0 0 0 0 0 2 1 0 0 1 5 5 5 5 5 5 1 0 0 0 0 0 0 0 0 1 0 2 0 1 5 5 1 1 2 0 2 2 2 2 1 5 1 1 0 0 0 0 0 0 0 1 5 5 5 5 5 5 5 5 5 5 1 1 0 0 0 0 0 1 0 0 0 1 5 5 5 5 5 5 1 0 0 0 0 0 0 0 0 0 2 2 0 2 1 1 2 0 2 2 0 0 0 0 1 2 1 0 0 0 0 0 0 0 0 1 5 5 5 5 5 5 5 5 5 5 5 1 1 0 0 0 0 0 0 0 0 1 5 5 5 5 5 5 1 0 0 0 0 0 0 0 0 0 1 0 0 2 0 0 2 1 0 2 0 0 0 0 0 1 0 0 0 1 0 0 0 0 0 1 5 5 5 5 5 5 5 5 5 5 5 5 1 0 0 0 0 0 0 0 0 1 5 5 5 5 5 5 1 0 0 0 0 0 0 0 0 0 0 0 1 2 0 1 0 0 1 2 1 1 1 1 0 0 0 0 1 3 2 1 0 0 0 1 5 5 5 5 5 5 5 5 5 5 5 5 1 1 0 0 0 0 0 0 0 1 5 1 1 1 5 5 1 0 0 0 0 0 0 0 0 0 0 0 1 3 2 2 0 1 1 5 5 5 5 1 1 1 1 0 0 0 0 0 0 0 0 1 5 5 5 5 5 5 5 5 5 5 5 5 5 1 0 0 0 0 0 0 0 1 1 1 0 1 5 5 1 0 0 0 0 0 0 0 0 0 0 0 0 1 0 0 1 2 1 5 5 5 5 5 5 5 1 1 0 0 0 0 0 0 0 1 5 5 5 5 5 5 5 5 5 5 5 5 1 1 0 0 0 0 0 0 0 1 1 0 0 1 5 5 1 0 0 0 0 0 0 0 0 0 0 0 0 0 0 0 0 0 2 1 1 5 5 5 5 5 5 1 1 0 0 0 0 0 0 1 5 5 1 1 1 5 5 5 5 5 5 1 1 0 0 0 0 0 0 0 0 2 1 0 0 1 5 5 1 0 0 0 0 0 0 0 0 0 0 0 0 0 0 0 0 0 2 0 1 5 5 5 5 5 5 5 1 1 1 0 0 0 0 1 5 5 1 0 1 1 5 5 5 5 1 1 0 0 0 0 0 0 0 0 0 1 0 0 0 1 5 5 1 0 0 0 0 0 0 0 0 0 0 0 0 0 0 0 0 0 2 0 1 5 5 5 5 5 5 5 5 5 1 1 0 0 0 1 5 5 1 0 0 1 1 5 5 5 1 0 0 0 0 0 0 0 0 0 1 0 0 0 0 1 5 5 1 0 0 0 0 0 0 0 0 0 0 0 0 0 0 0 1 1 2 1 1 5 5 5 5 5 5 5 5 5 5 1 0 0 0 1 5 5 1 0 0 0 1 5 5 1 1 0 0 0 0 0 0 0 0 1 2 0 0 0 0 1 5 5 1 0 0 0 0 0 0 0 0 0 0 0 0 0 0 0 1 5 5 5 5 5 5 5 5 5 5 5 5 5 5 1 1 0 0 1 5 5 1 0 0 0 1 1 1 1 0 0 0 0 0 0 0 0 1 1 1 0 0 0 0 1 5 5 1 0 0 0 0 0 0 0 0 1 0 0 0 0 0 2 2 2 1 1 5 5 5 5 5 5 5 5 5 5 5 5 1 1 0 1 1 5 1 0 0 0 0 1 1 0 0 0 0 0 0 0 0 1 1 5 1 0 0 0 0 1 5 5 1 0 0 0 0 0 0 0 0 2 0 0 0 0 2 2 0 1 0 1 5 5 5 5 5 5 5 5 5 5 5 5 5 1 1 0 1 5 1 0 0 1 1 1 1 1 0 0 0 0 0 0 0 1 5 5 1 0 0 0 0 1 5 5 1 0 0 0 0 0 0 0 0 2 0 0 0 0 1 0 0 0 1 1 5 5 5 5 5 5 5 5 5 5 5 5 5 5 1 0 1 5 1 0 1 1 5 5 5 1 0 0 0 0 0 0 1 1 5 5 1 0 0 0 0 1 5 5 1 0 0 0 0 0 0 0 0 2 0 0 0 0 0 0 0 1 1 5 5 5 5 5 5 5 5 5 5 5 5 5 5 5 1 1 1 5 1 1 1 5 5 5 1 1 0 0 0 0 0 1 1 5 5 5 1 0 0 0 0 1 5 5 1 0 0 0 0 0 0 0 1 2 0 0 0 0 0 0 1 1 5 5 5 5 5 5 5 5 5 5 5 5 5 5 5 5 5 5 5 5 5 5 5 5 5 5 1 0 0 0 0 0 0 1 5 5 5 5 1 0 0 0 0 1 5 5 1 0 0 0 0 0 0 0 1 1 0 0 0 0 0 2 2 1 5 5 5 5 5 5 5 5 5 5 5 5 5 5 5 5 5 5 5 5 5 5 5 5 1 1 2 0 0 0 0 0 1 1 5 5 5 5 1 0 0 0 0 1 5 5 1 0 0 0 0 0 0 0 1 1 1 0 0 0 2 2 0 1 5 5 5 5 5 5 5 5 5 5 5 5 5 5 5 5 5 5 5 5 5 5 5 5 1 0 1 0 0 0 0 0 1 5 5 5 5 5 1 0 0 0 0 1 5 5 1 0 0 0 0 0 0 0 1 5 1 1 0 0 1 0 1 2 5 1 1 2 1 1 1 1 1 2 1 1 1 5 5 5 5 5 5 5 5 5 1 1 1 0 0 0 0 0 0 1 1 5 5 5 5 5 1 0 0 0 0 1 5 5 1 0 0 0 0 0 0 0 1 5 5 2 1 0 0 1 0 1 2 1 0 1 0 1 1 0 0 1 0 0 1 5 5 5 5 5 5 5 1 1 1 0 0 0 0 0 0 0 0 1 5 5 5 5 5 5 1 0 0 0 0 1 5 5 1 0 0 0 0 0 0 0 1 1 5 1 0 0 1 3 2 0 2 0 0 0 0 0 0 0 0 0 0 1 1 5 5 5 5 5 1 1 1 0 0 0 0 0 0 0 0 0 1 1 5 5 5 5 5 5 1 0 0 0 0 1 5 5 1 0 0 0 0 0 0 0 0 1 5 1 0 0 0 0 3 2 2 0 0 0 0 0 0 0 0 0 1 1 5 5 5 5 1 1 1 0 0 1 2 1 0 0 0 0 0 0 1 5 5 5 5 5 5 5 1 0 0 0 0 1 5 5 1 0 0 0 0 0 0 0 0 1 2 2 1 0 0 0 2 0 0 0 0 0 0 0 0 0 0 0 1 5 5 5 5 5 1 0 0 0 1 3 1 0 0 0 0 0 0 1 1 5 5 5 5 5 5 5 1 0 0 0 0 1 5 5 1 0 0 0 0 0 0 0 0 0 2 0 0 0 0 0 1 0 0 0 0 0 0 0 0 0 0 1 1 5 5 5 5 5 1 1 0 0 0 1 0 0 0 0 0 0 0 1 1 5 5 5 5 5 5 5 1 0 0 0 0 1 5 5 1 0 0 0 0 0 0 0 0 0 2 0 0 0 0 0 0 0 0 0 0 0 0 0 0 0 1 1 5 5 5 5 5 5 5 1 0 0 0 0 0 0 0 0 0 0 1 0 1 5 5 5 5 5 5 5 1 0 0 0 0 1 5 5 1 0 0 0 0 0 0 0 0 0 2 0 0 0 0 0 0 0 0 0 0 0 0 0 0 1 1 5 5 5 5 5 5 5 5 1 0 0 0 0 0 0 0 0 0 0 2 1 1 5 5 5 5 5 5 5 1 0 0 0 0 1 5 5 1 0 0 0 0 0 0 0 0 0 1 0 0 0 0 0 0 0 0 0 0 0 0 0 1 1 5 5 5 5 5 5 5 5 5 1 0 0 0 0 0 0 0 0 0 0 1 5 5 5 5 5 5 5 5 5 1 0 0 0 0 1 5 5 1 0 0 0 0 0 0 0 0 0 0 1 0 0 0 0 0 0 0 0 0 0 0 1 1 5 1 1 1 1 5 5 5 5 5 2 1 0 0 1 0 0 0 0 0 1 1 5 5 5 5 5 5 5 5 5 1 0 0 0 0 1 5 5 1 0 0 0 0 0 0 0 0 1 0 1 0 0 0 0 0 0 0 0 0 0 1 1 1 1 1 0 0 1 1 5 5 5 1 1 0 0 0 2 0 0 0 0 0 1 5 5 5 5 5 5 5 5 5 5 1 0 0 0 0 1 5 5 1 0 0 0 0 0 0 0 1 3 1 0 0 0 0 0 0 0 0 0 0 0 1 1 1 0 0 0 0 0 1 5 1 1 1 0 0 0 0 2 0 0 0 0 0 1 5 5 5 5 5 5 5 5 5 5 1 0 0 0 0 1 5 5 1 0 0 0 0 0 0 1 2 1 0 0 0 0 0 0 0 0 0 0 1 1 2 1 0 0 0 1 0 0 1 1 1 0 0 1 0 0 0 2 0 0 0 0 1 1 5 5 5 5 5 5 5 5 5 5 1 0 0 0 0 1 5 5 1 0 0 0 0 0 0 1 1 0 0 0 0 0 0 0 0 0 0 0 1 1 1 0 1 0 0 2 2 1 0 1 1 0 0 1 0 0 0 2 0 0 0 0 1 5 5 5 5 5 5 5 5 5 5 5 1 0 0 0 0 1 5 5 1 0 0 0 0 1 2 0 0 0 0 0 0 0 1 0 0 0 0 0 2 1 0 1 2 1 0 0 1 1 0 1 1 1 1 0 0 0 0 2 0 0 0 0 1 5 5 5 5 5 5 5 5 5 5 5 1 0 0 0 0 1 5 5 1 0 0 0 0 0 1 0 0 0 0 0 0 1 2 0 0 0 0 2 2 0 0 1 5 1 1 1 1 1 1 1 5 5 1 0 0 0 0 2 0 0 0 1 1 5 5 5 5 5 5 5 5 5 5 5 1 0 0 0 0 1 5 5 1 0 0 0 1 0 0 0 0 0 0 0 0 0 0 0 0 0 0 2 0 0 0 1 5 5 5 5 5 1 1 1 5 5 1 1 0 0 0 1 0 0 0 1 5 5 5 5 5 5 5 5 5 5 5 5 1 0 0 0 0 1 5 5 1 0 0 0 2 0 0 0 0 0 0 0 0 0 0 0 0 0 2 2 0 0 1 2 5 5 5 5 5 1 0 1 5 5 5 1 0 0 0 0 1 0 0 1 5 5 5 5 5 5 5 5 5 5 5 5 1 0 0 0 0 1 5 5 1 0 0 0 1 0 0 0 0 0 0 0 0 0 0 0 0 0 1 0 0 0 0 1 5 5 5 5 1 1 0 1 1 5 1 1 0 0 0 0 2 0 1 1 5 5 5 5 5 5 5 5 5 5 5 5 1 0 0 0 0 1 5 5 1 0 0 0 0 0 0 0 0 0 0 0 0 0 0 0 2 1 0 0 0 0 0 1 5 5 5 5 1 0 1 0 1 5 1 0 0 0 0 0 2 0 1 5 5 5 5 5 5 5 5 5 5 5 5 5 1 0 0 0 0 1 5 5 1 0 0 0 0 0 0 0 0 0 0 0 0 0 0 0 2 0 0 0 0 0 0 1 5 5 5 5 1 1 2 0 1 5 1 0 0 0 0 0 2 0 1 5 5 5 5 5 5 5 5 5 5 5 5 5 1 0 0 0 0 1 5 5 1 0 0 0 0 0 0 0 0 0 1 0 0 0 1 0 1 0 0 0 0 0 1 1 5 5 5 5 5 5 1 1 1 1 1 0 0 0 0 0 2 0 1 5 5 5 5 5 5 5 5 5 5 5 5 5 1 0 0 0 0 1 5 5 1 0 0 0 0 0 0 0 0 0 2 0 0 2 2 0 0 0 0 0 0 0 1 1 1 5 1 1 1 1 1 2 1 2 0 0 0 0 0 0 2 1 1 5 5 5 5 5 5 5 5 5 5 5 5 5 1 0 0 0 0 1 5 5 1 0 0 0 0 0 0 0 0 0 1 0 1 2 0 0 0 0 0 0 0 0 0 0 1 5 1 0 0 0 0 2 0 1 0 0 0 0 0 0 1 5 5 5 5 5 5 5 1 1 1 5 5 5 5 5 1 0 0 0 0 1 5 5 1 0 0 0 0 0 0 0 0 0 0 0 0 0 0 0 0 0 0 0 0 0 0 0 1 1 1 1 0 0 1 2 1 0 0 0 0 0 0 0 1 5 5 5 5 5 5 5 1 0 1 5 5 5 5 5 1 0 0 0 0 1 5 5 1 0 0 0 0 0 0 0 0 0 0 0 0 0 0 0 0 0 0 0 0 0 0 0 0 1 1 1 1 1 1 1 1 0 0 0 0 0 0 0 1 5 5 5 5 5 5 5 1 0 1 5 5 5 5 5 1 0 0 0 0 1 5 5 1 0 0 0 0 0 0 0 0 0 0 0 0 0 0 0 0 0 0 0 0 0 0 0 0 0 1 1 5 5 5 1 0 0 0 0 0 0 0 0 1 5 5 5 5 5 5 5 1 0 1 5 5 5 5 1 1 0 0 0 0 1 5 5 1 0 0 0 0 0 0 0 0 0 0 0 0 0 0 0 0 0 0 0 0 0 0 0 0 0 0 1 5 5 5 1 0 0 0 0 0 0 0 0 2 1 1 1 1 1 1 1 1 0 1 5 5 5 1 1 0 0 0 0 0 1 1 5 2 1 0 0 0 0 0 0 1 0 0 0 1 2 0 0 0 0 0 0 0 0 0 0 1 2 2 1 5 5 5 1 1 0 0 0 0 0 0 0 2 0 0 0 0 0 1 1 0 1 1 5 5 1 1 0 0 1 0 0 0 0 1 5 1 0 0 0 0 0 0 0 1 0 0 0 0 1 0 0 0 0 0 0 0 0 0 0 0 0 1 5 5 5 5 5 1 1 1 0 0 0 0 0 2 1 1 1 0 0 0 0 0 1 5 5 1 1 0 0 0 2 2 0 0 0 1 5 1 1 0 0 0 0 0 0 0 0 0 0 1 0 0 0 0 0 0 0 0 0 0 0 0 0 1 5 5 5 5 5 5 5 1 1 1 0 0 0 1 5 5 1 1 1 0 0 0 1 5 1 1 0 0 0 0 0 2 2 0 0 1 5 1 1 0 0 0 0 0 0 0 0 0 0 1 0 0 0 0 0 0 0 0 0 0 0 0 0 1 5 5 5 5 5 5 5 5 5 1 0 0 0 1 5 5 5 5 1 0 0 1 1 5 1 0 0 0 0 0 0 0 2 0 0 1 5 1 0 0 0 0 0 0 0 0 0 0 0 0 0 0 1 0 0 0 0 0 0 0 0 1 1 1 5 5 5 5 5 5 5 5 5 1 1 0 0 1 5 5 5 1 1 0 0 1 5 1 1 0 0 0 0 0 0 0 2 0 0 1 5 2 1 0 0 0 0 0 0 0 0 0 0 0 0 0 1 0 0 0 0 0 0 0 0 1 5 5 5 5 5 5 5 5 5 5 5 5 1 1 0 1 5 5 5 1 0 1 2 1 5 1 0 0 0 0 0 0 0 0 2 0 0 1 5 1 0 0 0 0 0 0 0 0 0 0 0 1 2 1 0 0 0 0 0 0 0 0 0 1 5 5 5 5 5 5 5 5 5 5 5 5 5 1 0 1 5 5 5 1 1 0 1 5 5 1 0 0 0 0 0 0 0 0 2 0 0 1 5 1 1 0 0 0 0 0 0 0 0 0 0 0 0 0 0 0 0 0 0 0 0 0 0 1 5 5 5 5 5 5 5 5 5 5 5 5 5 1 0 1 1 5 5 5 1 0 1 5 1 1 0 0 0 0 0 0 0 0 2 1 0 1 5 1 1 0 0 0 0 0 0 0 0 0 0 0 0 1 1 0 0 0 0 0 0 0 0 1 5 5 5 5 5 5 5 5 5 5 5 5 5 1 0 0 1 1 1 1 1 1 1 5 1 0 0 0 0 0 0 0 0 0 1 1 0 1 5 1 0 0 0 0 0 0 0 0 0 0 0 0 0 0 0 0 0 0 0 0 0 0 1 1 5 5 5 5 5 5 5 5 5 5 5 5 5 1 1 0 0 0 0 1 1 1 5 1 1 0 0 0 0 0 0 0 0 0 1 1 0 1 5 1 0 0 0 0 0 0 0 0 0 0 0 0 0 0 0 0 0 0 0 0 0 0 1 5 5 5 5 5 5 5 5 5 5 5 5 5 5 5 1 0 0 0 0 0 0 1 5 1 0 0 0 0 0 0 0 0 0 0 1 1 0 1 5 1 0 0 0 0 0 0 0 0 0 0 0 0 0 0 0 0 0 0 0 0 0 1 1 5 5 5 5 5 5 5 5 5 5 5 5 5 5 5 1 0 0 0 0 0 0 2 1 1 0 0 0 0 0 0 0 0 0 0 1 1 0 1 5 1 0 0 0 0 0 0 0 0 0 0 0 0 0 0 0 0 0 0 0 0 0 1 1 5 5 5 5 5 5 5 5 5 5 5 5 5 5 5 1 1 0 0 0 0 0 1 0 0 0 0 0 0 0 0 0 0 0 0 1 1 0 1 5 1 0 0 0 0 0 0 0 0 0 0 0 0 0 0 0 0 0 0 0 0 0 0 1 5 5 5 5 5 5 5 5 5 5 5 5 5 5 5 5 1 0 0 0 0 0 0 0 0 0 0 0 0 0 0 0 0 0 0 1 1 0 1 1 1 0 0 0 0 0 0 0 0 0 0 0 0 0 0 0 0 0 0 0 0 0 1 2 1 1 1 1 1 1 1 1 1 1 1 1 1 1 1 1 1 0 0 0 0 0 0 0 0 0 0 0 0 0 0 0 0 "
     ]
    }
   ],
   "source": [
    "yokoi = np.loadtxt('matrix.txt')\n",
    "for row in range(64):\n",
    "    for col in range(64):\n",
    "        print(int(yokoi[row][col]), end=' ')"
   ]
  },
  {
   "cell_type": "code",
   "execution_count": null,
   "metadata": {},
   "outputs": [],
   "source": []
  },
  {
   "cell_type": "code",
   "execution_count": null,
   "metadata": {},
   "outputs": [],
   "source": []
  },
  {
   "cell_type": "code",
   "execution_count": null,
   "metadata": {},
   "outputs": [],
   "source": []
  }
 ],
 "metadata": {
  "kernelspec": {
   "display_name": "Python 3",
   "language": "python",
   "name": "python3"
  },
  "language_info": {
   "codemirror_mode": {
    "name": "ipython",
    "version": 3
   },
   "file_extension": ".py",
   "mimetype": "text/x-python",
   "name": "python",
   "nbconvert_exporter": "python",
   "pygments_lexer": "ipython3",
   "version": "3.7.4"
  }
 },
 "nbformat": 4,
 "nbformat_minor": 2
}
