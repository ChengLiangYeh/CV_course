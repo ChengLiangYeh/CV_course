{
 "cells": [
  {
   "cell_type": "code",
   "execution_count": 1,
   "metadata": {},
   "outputs": [],
   "source": [
    "#thining operator"
   ]
  },
  {
   "cell_type": "code",
   "execution_count": 2,
   "metadata": {},
   "outputs": [],
   "source": [
    "import numpy as np\n",
    "import cv2\n",
    "np.set_printoptions(threshold=np.inf)"
   ]
  },
  {
   "cell_type": "code",
   "execution_count": 3,
   "metadata": {},
   "outputs": [],
   "source": [
    "yokoi = np.loadtxt('matrix.txt')\n",
    "img = cv2.imread('iteration_12_img.bmp',cv2.IMREAD_GRAYSCALE)"
   ]
  },
  {
   "cell_type": "code",
   "execution_count": 4,
   "metadata": {},
   "outputs": [],
   "source": [
    "#pair relationship operator\n",
    "\n",
    "#先把yokoi做padding:\n",
    "paddingyokoi = np.zeros([66,66])\n",
    "for row in range(64):\n",
    "    for col in range(64):\n",
    "        paddingyokoi[row+1][col+1] = yokoi[row][col]\n",
    "        \n",
    "#區分原本是零與經過h(a)後成為零的值，因此先把原本值為零改成10\n",
    "for row in range(66):\n",
    "    for col in range(66):\n",
    "        if paddingyokoi[row][col] == 0 :\n",
    "            paddingyokoi[row][col] = 10\n",
    "\n",
    "#新開一張\n",
    "markedimg = np.zeros([66,66])\n",
    "for row in range(66):\n",
    "    for col in range(66):\n",
    "        markedimg[row][col] = paddingyokoi[row][col]\n",
    "\n",
    "#h()\n",
    "for row in range(66):\n",
    "    for col in range(66):\n",
    "        if paddingyokoi[row][col] == 1:\n",
    "            markedimg[row][col] = 1\n",
    "        elif paddingyokoi[row][col] == 10:\n",
    "            markedimg [row][col] = 10\n",
    "        else:\n",
    "            markedimg[row][col] = 0\n",
    "#print('markedimg=', markedimg)\n",
    "\n",
    "#開設一張markedimg2存markedimg的data, 把markedimg中10的位置改回0，以便等等判斷\n",
    "markedimg2 = np.zeros([66,66])\n",
    "for row in range(66):\n",
    "    for col in range(66):\n",
    "        markedimg2[row][col] = markedimg[row][col]\n",
    "        if markedimg[row][col] == 10:\n",
    "            markedimg[row][col] = 0\n",
    "\n",
    "#print('markedimg2=',markedimg2)\n",
    "#print('markedimg=',markedimg)"
   ]
  },
  {
   "cell_type": "code",
   "execution_count": 5,
   "metadata": {},
   "outputs": [],
   "source": [
    "#pair_output\n",
    "sum = 0\n",
    "finalmarkedimg = np.zeros([66,66]) #一樣有padding\n",
    "for row in range(64):\n",
    "    for col in range(64):\n",
    "        if markedimg2[row+1][col+1] == 0 or markedimg2[row+1][col+1] == 1: #10的位置，也就是原本=0的位置不用判斷。\n",
    "            sum = markedimg[row+1][col+2] + markedimg[row][col+1] + markedimg[row+1][col] + markedimg[row+2][col+1]\n",
    "            \n",
    "            if sum < 1 or markedimg2[row+1][col+1] != 1:\n",
    "                finalmarkedimg[row+1][col+1] = 9 # 設q = 9\n",
    "                sum = 0\n",
    "            elif sum >= 1 and markedimg2[row+1][col+1] == 1:\n",
    "                finalmarkedimg[row+1][col+1] = 6 # 設p = 6\n",
    "                sum = 0\n",
    "            else:\n",
    "                print('error')\n",
    "                sum = 0\n",
    "#print(markedimg)\n",
    "#print(markedimg2)\n",
    "#print(finalmarkedimg)\n",
    "                \n",
    "                "
   ]
  },
  {
   "cell_type": "code",
   "execution_count": 6,
   "metadata": {},
   "outputs": [],
   "source": [
    "#print(np.shape(img))\n",
    "#print(finalmarkedimg)\n",
    "#padding img\n",
    "paddingimg = np.zeros([66,66])\n",
    "for row in range(64):\n",
    "    for col in range(64):\n",
    "        paddingimg[row+1][col+1] = img[row][col]\n",
    "#so 現在有原圖和標記q,p後的圖\n",
    "#針對標記p(6)的位置判斷 connected shrink operator(以原圖數值判斷(0,255)):\n",
    "\n",
    "#開a1,a2,a3,a4空間，都先填5，這樣等等填0,1，5 之後加總才知道位置在哪，不然會搞混0\n",
    "a1 = np.zeros([64,64])\n",
    "a2 = np.zeros([64,64])\n",
    "a3 = np.zeros([64,64])\n",
    "a4 = np.zeros([64,64])\n",
    "for row in range(64):\n",
    "    for col in range(64):\n",
    "        a1[row][col]=5\n",
    "        a2[row][col]=5\n",
    "        a3[row][col]=5\n",
    "        a4[row][col]=5\n",
    "        \n",
    "        \n",
    "\n",
    "#def h(b,c,d,e):\n",
    "def h(b,c,d,e):\n",
    "    if b == c:\n",
    "        if b!=d or b!=e:\n",
    "            return 1\n",
    "        else:\n",
    "            return 0\n",
    "    else:\n",
    "        return 0\n",
    "\n",
    "for row in range(64):\n",
    "    for col in range(64):\n",
    "        if finalmarkedimg[row+1][col+1] == 6:\n",
    "            #a1 = h(x0,x1,x6,x2)\n",
    "            #a2 = h(x0,x2,x7,x3)\n",
    "            #a3 = h(x0,x3,x8,x4)\n",
    "            #a4 = h(x0,x4,x5,x1)\n",
    "            #h(b,c,d,e) = 1 if b=c and (b!=d or b!=e)\n",
    "            \n",
    "            \n",
    "            a1[row][col] = h(paddingimg[row+1][col+1],paddingimg[row+1][col+2],paddingimg[row][col+2],paddingimg[row][+1])\n",
    "            #print('b=',paddingimg[row+1][col+1],'c=',paddingimg[row+1][col+2],'d=',paddingimg[row][col+2],'e=',paddingimg[row][+1])\n",
    "            #print('a1=',a1[row][col])\n",
    "            a2[row][col] = h(paddingimg[row+1][col+1],paddingimg[row][col+1],paddingimg[row][col],paddingimg[row+1][col])\n",
    "            #print('b=',paddingimg[row+1][col+1],'c=',paddingimg[row][col+1],'d=',paddingimg[row][col],'e=',paddingimg[row+1][col])\n",
    "            #print('a2=',a2[row][col])\n",
    "            a3[row][col] = h(paddingimg[row+1][col+1],paddingimg[row+1][col],paddingimg[row+2][col],paddingimg[row+2][col+1])\n",
    "            #print('b=',paddingimg[row+1][col+1],'c=',paddingimg[row+1][col],'d=',paddingimg[row+2][col],'e=',paddingimg[row+2][col+1])\n",
    "            #print('a3=',a3[row][col])\n",
    "            a4[row][col] = h(paddingimg[row+1][col+1],paddingimg[row+2][col+1],paddingimg[row+2][col+2],paddingimg[row+1][col+2])\n",
    "            #print('b=',paddingimg[row+1][col+1],'c=',paddingimg[row+2][col+1],'d=',paddingimg[row+2][col+2],'e=',paddingimg[row+1][col+2])\n",
    "            #print('a4=',a4[row][col])\n",
    "            \n",
    "            "
   ]
  },
  {
   "cell_type": "code",
   "execution_count": 7,
   "metadata": {},
   "outputs": [],
   "source": [
    "#print(np.shape(finalmarkedimg))\n",
    "#print(np.shape(paddingimg))"
   ]
  },
  {
   "cell_type": "code",
   "execution_count": 8,
   "metadata": {},
   "outputs": [],
   "source": [
    "#print('a1=',a1)\n",
    "#print('a2=',a2)\n",
    "#print('a3=',a3)\n",
    "#print('a4=',a4)"
   ]
  },
  {
   "cell_type": "code",
   "execution_count": 9,
   "metadata": {},
   "outputs": [],
   "source": [
    "#加總各個位置\n",
    "sum = np.zeros([64,64])\n",
    "for row in range(64):\n",
    "    for col in range(64):\n",
    "        sum[row][col] = a1[row][col] + a2[row][col] + a3[row][col] + a4[row][col]\n",
    "#print(sum)"
   ]
  },
  {
   "cell_type": "code",
   "execution_count": 10,
   "metadata": {},
   "outputs": [],
   "source": [
    "#把sum剛好為1的值的位置在原圖上刪除，其他保留\n",
    "\n",
    "for row in range(64):\n",
    "    for col in range(64):\n",
    "        if sum[row][col]==1:\n",
    "            img[row][col] = 0\n"
   ]
  },
  {
   "cell_type": "code",
   "execution_count": 11,
   "metadata": {},
   "outputs": [
    {
     "data": {
      "text/plain": [
       "True"
      ]
     },
     "execution_count": 11,
     "metadata": {},
     "output_type": "execute_result"
    }
   ],
   "source": [
    "cv2.imshow('img',img)\n",
    "cv2.waitKey()\n",
    "cv2.imwrite('iteration_13_img.bmp',img)"
   ]
  },
  {
   "cell_type": "code",
   "execution_count": 12,
   "metadata": {},
   "outputs": [],
   "source": [
    "#改輸入與輸出的image即可，疊代多次"
   ]
  }
 ],
 "metadata": {
  "kernelspec": {
   "display_name": "Python 3",
   "language": "python",
   "name": "python3"
  },
  "language_info": {
   "codemirror_mode": {
    "name": "ipython",
    "version": 3
   },
   "file_extension": ".py",
   "mimetype": "text/x-python",
   "name": "python",
   "nbconvert_exporter": "python",
   "pygments_lexer": "ipython3",
   "version": "3.7.4"
  }
 },
 "nbformat": 4,
 "nbformat_minor": 2
}
