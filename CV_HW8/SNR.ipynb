{
 "cells": [
  {
   "cell_type": "code",
   "execution_count": 1,
   "metadata": {},
   "outputs": [],
   "source": [
    "import numpy as np\n",
    "import cv2\n",
    "import math"
   ]
  },
  {
   "cell_type": "code",
   "execution_count": 2,
   "metadata": {},
   "outputs": [],
   "source": [
    "def normalize(img):\n",
    "    newimg = np.zeros([len(img),len(img)])\n",
    "    for row in range(len(img)):\n",
    "        for col in range(len(img)):\n",
    "            newimg[row][col] = (img[row][col])/255\n",
    "            #img = img.astype(np.uint8)\n",
    "    return newimg\n",
    "#check ok"
   ]
  },
  {
   "cell_type": "code",
   "execution_count": 3,
   "metadata": {},
   "outputs": [],
   "source": [
    "def us(img):\n",
    "    sum = 0\n",
    "    for row in range(len(img)):\n",
    "        for col in range(len(img)):\n",
    "            sum = sum + (img[row][col])\n",
    "            us = sum / ((len(img))**(2))\n",
    "    return us"
   ]
  },
  {
   "cell_type": "code",
   "execution_count": 4,
   "metadata": {},
   "outputs": [],
   "source": [
    "def VS(img, us):\n",
    "    sum = 0\n",
    "    for row in range(len(img)):\n",
    "        for col in range(len(img)):\n",
    "            sum = sum + (img[row][col] - us)**2\n",
    "            vs = sum / ((len(img))**(2))\n",
    "    return vs"
   ]
  },
  {
   "cell_type": "code",
   "execution_count": 5,
   "metadata": {},
   "outputs": [],
   "source": [
    "def un(noiseimg,img):\n",
    "    sum = 0\n",
    "    for row in range(len(img)):\n",
    "        for col in range(len(img)):\n",
    "            sum = sum + (noiseimg[row][col] - img[row][col])\n",
    "            un = sum / ((len(img))**(2))\n",
    "    return un"
   ]
  },
  {
   "cell_type": "code",
   "execution_count": 6,
   "metadata": {},
   "outputs": [],
   "source": [
    "def VN(noiseimg,img,un):\n",
    "    sum = 0\n",
    "    for row in range(len(img)):\n",
    "        for col in range(len(img)):\n",
    "            sum = sum + ((noiseimg[row][col] - img[row][col] - un)**(2))\n",
    "            vn = sum / ((len(img))**(2))\n",
    "    return vn"
   ]
  },
  {
   "cell_type": "code",
   "execution_count": 7,
   "metadata": {},
   "outputs": [],
   "source": [
    "def SNR(vs,vn):\n",
    "    SNR = 0\n",
    "    temp = ((vs)**0.5) / ((vn)**0.5)\n",
    "    temp = math.log(temp,10)\n",
    "    SNR = temp * 20\n",
    "    return SNR"
   ]
  },
  {
   "cell_type": "code",
   "execution_count": 8,
   "metadata": {},
   "outputs": [],
   "source": [
    "img = cv2.imread('lena.bmp',cv2.IMREAD_GRAYSCALE)\n",
    "noiseimg = cv2.imread('SP0.1_aftermedianfilterimg_kernalsize5.bmp',cv2.IMREAD_GRAYSCALE)\n",
    "normalize_img = normalize(img)\n",
    "normalize_noiseimg = normalize(noiseimg)\n",
    "\n",
    "\n",
    "us = us(normalize_img)\n",
    "vs = VS(normalize_img,us)\n",
    "un = un(normalize_noiseimg,normalize_img)\n",
    "vn = VN(normalize_noiseimg,normalize_img,un)\n",
    "SNR = SNR(vs,vn)"
   ]
  },
  {
   "cell_type": "code",
   "execution_count": 9,
   "metadata": {},
   "outputs": [
    {
     "name": "stdout",
     "output_type": "stream",
     "text": [
      "14.36154259597881\n"
     ]
    }
   ],
   "source": [
    "print(SNR) #答對啦~~~~~~~~~~~~~~~~~~~~~~~~~~~\n",
    "SNR = str(SNR)"
   ]
  },
  {
   "cell_type": "code",
   "execution_count": 10,
   "metadata": {},
   "outputs": [],
   "source": [
    "# 開啟檔案\n",
    "file = open(\"SNR.txt\", \"a\")\n",
    "# 寫入 This is a testing! 到檔案\n",
    "file.write(\"SP0.1_aftermedianfilterimg_kernalsize5_SNR=\")\n",
    "file.write(SNR)\n",
    "file.write('\\n')\n",
    "# 關閉檔案\n",
    "file.close()"
   ]
  },
  {
   "cell_type": "code",
   "execution_count": null,
   "metadata": {},
   "outputs": [],
   "source": []
  },
  {
   "cell_type": "code",
   "execution_count": null,
   "metadata": {},
   "outputs": [],
   "source": []
  }
 ],
 "metadata": {
  "kernelspec": {
   "display_name": "Python 3",
   "language": "python",
   "name": "python3"
  },
  "language_info": {
   "codemirror_mode": {
    "name": "ipython",
    "version": 3
   },
   "file_extension": ".py",
   "mimetype": "text/x-python",
   "name": "python",
   "nbconvert_exporter": "python",
   "pygments_lexer": "ipython3",
   "version": "3.7.4"
  }
 },
 "nbformat": 4,
 "nbformat_minor": 2
}
