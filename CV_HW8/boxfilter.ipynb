{
 "cells": [
  {
   "cell_type": "code",
   "execution_count": 1,
   "metadata": {},
   "outputs": [],
   "source": [
    "import cv2\n",
    "import numpy as np"
   ]
  },
  {
   "cell_type": "code",
   "execution_count": 2,
   "metadata": {},
   "outputs": [],
   "source": [
    "def boxfilter(img,kernalsize):\n",
    "    imgsize = np.shape(img)\n",
    "    newimg = np.zeros([imgsize[0],imgsize[1]])\n",
    "    if kernalsize == 3:\n",
    "        paddingimg = padding(img)\n",
    "    if kernalsize == 5:\n",
    "        paddingimg = padding(img)\n",
    "        paddingimg = padding(paddingimg)  #double padding because of kernal size = 5*5\n",
    "    for row in range(imgsize[0]):\n",
    "        for col in range(imgsize[1]):\n",
    "            if kernalsize == 3:\n",
    "                temp = (sum(sum(paddingimg[row:row+kernalsize,col:col+kernalsize])))/9\n",
    "                newimg[row][col] = temp\n",
    "            if kernalsize == 5:\n",
    "                temp = (sum(sum(paddingimg[row:row+kernalsize,col:col+kernalsize])))/25\n",
    "                newimg[row][col] = temp\n",
    "    newimg = newimg.astype(np.uint8)\n",
    "    return newimg\n",
    "\n",
    "def get_imgsize(img):\n",
    "    shape = np.shape(img)\n",
    "    return shape            \n",
    "            \n",
    "def padding(img):\n",
    "    shape = get_imgsize(img) \n",
    "    paddingimg = np.zeros([shape[0]+2,shape[1]+2]) \n",
    "    for row in range(shape[0]):\n",
    "        for col in range(shape[1]):\n",
    "            paddingimg[row+1][col+1] = img[row][col]\n",
    "    return paddingimg"
   ]
  },
  {
   "cell_type": "code",
   "execution_count": 3,
   "metadata": {},
   "outputs": [],
   "source": [
    "img = cv2.imread('salt_and_pepper_p0.1_img.bmp',cv2.IMREAD_GRAYSCALE)\n",
    "afterboxfilterimg = boxfilter(img,5)  #kernal size 可用 3*3 or 5*5"
   ]
  },
  {
   "cell_type": "code",
   "execution_count": 4,
   "metadata": {},
   "outputs": [
    {
     "data": {
      "text/plain": [
       "-1"
      ]
     },
     "execution_count": 4,
     "metadata": {},
     "output_type": "execute_result"
    }
   ],
   "source": [
    "cv2.imshow('afterboxfilterimg',afterboxfilterimg)\n",
    "cv2.waitKey(0)"
   ]
  },
  {
   "cell_type": "code",
   "execution_count": 5,
   "metadata": {},
   "outputs": [
    {
     "data": {
      "text/plain": [
       "True"
      ]
     },
     "execution_count": 5,
     "metadata": {},
     "output_type": "execute_result"
    }
   ],
   "source": [
    "cv2.imwrite('SP0.1_afterboxfilterimg_kernalsize5.bmp',afterboxfilterimg)"
   ]
  },
  {
   "cell_type": "code",
   "execution_count": null,
   "metadata": {},
   "outputs": [],
   "source": []
  },
  {
   "cell_type": "code",
   "execution_count": null,
   "metadata": {},
   "outputs": [],
   "source": []
  }
 ],
 "metadata": {
  "kernelspec": {
   "display_name": "Python 3",
   "language": "python",
   "name": "python3"
  },
  "language_info": {
   "codemirror_mode": {
    "name": "ipython",
    "version": 3
   },
   "file_extension": ".py",
   "mimetype": "text/x-python",
   "name": "python",
   "nbconvert_exporter": "python",
   "pygments_lexer": "ipython3",
   "version": "3.7.4"
  }
 },
 "nbformat": 4,
 "nbformat_minor": 2
}
