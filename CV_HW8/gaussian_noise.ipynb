{
 "cells": [
  {
   "cell_type": "code",
   "execution_count": 1,
   "metadata": {},
   "outputs": [],
   "source": [
    "import cv2\n",
    "import numpy as np\n",
    "import random"
   ]
  },
  {
   "cell_type": "code",
   "execution_count": 2,
   "metadata": {},
   "outputs": [],
   "source": [
    "def get_imgsize(img):\n",
    "    shape = np.shape(img)\n",
    "    return shape\n",
    "\n",
    "def padding(img):\n",
    "    shape = get_imgsize(img) \n",
    "    paddingimg = np.zeros([shape[0]+2,shape[1]+2]) \n",
    "    for row in range(shape[0]):\n",
    "        for col in range(shape[1]):\n",
    "            paddingimg[row+1][col+1] = img[row][col]\n",
    "    return paddingimg"
   ]
  },
  {
   "cell_type": "code",
   "execution_count": 3,
   "metadata": {},
   "outputs": [],
   "source": [
    "def gaussian_noise(img, amp):\n",
    "    noiseimg = np.zeros([512,512])\n",
    "    for row in range(len(img)):\n",
    "        for col in range(len(img)):\n",
    "            tem = 0\n",
    "            tem = img[row][col] + amp * random.gauss(0, 1)\n",
    "            if tem > 255:\n",
    "                tem = 255\n",
    "            elif tem < 0:\n",
    "                tem = 0\n",
    "            noiseimg[row][col] = tem\n",
    "    return noiseimg\n",
    "    "
   ]
  },
  {
   "cell_type": "code",
   "execution_count": 4,
   "metadata": {},
   "outputs": [],
   "source": [
    "img = cv2.imread('lena.bmp', cv2.IMREAD_GRAYSCALE)\n",
    "noiseimg = gaussian_noise(img,10)\n",
    "noiseimg = noiseimg.astype(np.uint8)"
   ]
  },
  {
   "cell_type": "code",
   "execution_count": 5,
   "metadata": {},
   "outputs": [
    {
     "data": {
      "text/plain": [
       "-1"
      ]
     },
     "execution_count": 5,
     "metadata": {},
     "output_type": "execute_result"
    }
   ],
   "source": [
    "cv2.imshow('noiseimg',noiseimg)\n",
    "cv2.waitKey()"
   ]
  },
  {
   "cell_type": "code",
   "execution_count": 6,
   "metadata": {},
   "outputs": [
    {
     "data": {
      "text/plain": [
       "True"
      ]
     },
     "execution_count": 6,
     "metadata": {},
     "output_type": "execute_result"
    }
   ],
   "source": [
    "cv2.imwrite('gaussian_noise_10.bmp',noiseimg)"
   ]
  },
  {
   "cell_type": "code",
   "execution_count": null,
   "metadata": {},
   "outputs": [],
   "source": []
  },
  {
   "cell_type": "code",
   "execution_count": null,
   "metadata": {},
   "outputs": [],
   "source": []
  },
  {
   "cell_type": "code",
   "execution_count": null,
   "metadata": {},
   "outputs": [],
   "source": []
  }
 ],
 "metadata": {
  "kernelspec": {
   "display_name": "Python 3",
   "language": "python",
   "name": "python3"
  },
  "language_info": {
   "codemirror_mode": {
    "name": "ipython",
    "version": 3
   },
   "file_extension": ".py",
   "mimetype": "text/x-python",
   "name": "python",
   "nbconvert_exporter": "python",
   "pygments_lexer": "ipython3",
   "version": "3.7.4"
  }
 },
 "nbformat": 4,
 "nbformat_minor": 2
}
