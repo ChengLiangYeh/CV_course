{
 "cells": [
  {
   "cell_type": "code",
   "execution_count": 1,
   "metadata": {},
   "outputs": [],
   "source": [
    "import cv2\n",
    "import numpy as np"
   ]
  },
  {
   "cell_type": "code",
   "execution_count": 2,
   "metadata": {},
   "outputs": [],
   "source": [
    "def get_imgsize(img):\n",
    "    shape = np.shape(img)\n",
    "    return shape            \n",
    "            \n",
    "def padding(img):\n",
    "    shape = get_imgsize(img) \n",
    "    paddingimg = np.zeros([shape[0]+2,shape[1]+2]) \n",
    "    for row in range(shape[0]):\n",
    "        for col in range(shape[1]):\n",
    "            paddingimg[row+1][col+1] = img[row][col]\n",
    "    return paddingimg\n",
    "\n",
    "def medianfilter(img,kernalsize):\n",
    "    imgsize = np.shape(img)\n",
    "    newimg = np.zeros([imgsize[0],imgsize[1]])\n",
    "    if kernalsize == 3:\n",
    "        paddingimg = padding(img)\n",
    "    if kernalsize == 5:\n",
    "        paddingimg = padding(img)\n",
    "        paddingimg = padding(paddingimg)  #double padding because of kernal size = 5*5\n",
    "    for row in range(imgsize[0]):\n",
    "        for col in range(imgsize[1]):\n",
    "            if kernalsize == 3:\n",
    "                temp = np.zeros([3,3])\n",
    "                temp[0:3,0:3] = (paddingimg[row:row+kernalsize,col:col+kernalsize])\n",
    "                templist = np.zeros(9)\n",
    "                for i in range(3):\n",
    "                    for j in range(3):\n",
    "                        if i == 0:\n",
    "                            templist[j] = temp[i][j]\n",
    "                        elif i == 1:\n",
    "                            templist[j+3] = temp[i][j]\n",
    "                        else:\n",
    "                            templist[j+6] = temp[i][j]\n",
    "                templist = np.sort(templist)\n",
    "                #print('median number=', templist[4])\n",
    "                newimg[row][col] = templist[4]\n",
    "                \n",
    "            if kernalsize == 5:\n",
    "                temp = np.zeros([5,5])\n",
    "                temp[0:5,0:5] = (paddingimg[row:row+kernalsize,col:col+kernalsize])\n",
    "                templist = np.zeros(25)\n",
    "                for i in range(5):\n",
    "                    for j in range(5):\n",
    "                        if i == 0:\n",
    "                            templist[j] = temp[i][j]\n",
    "                        elif i == 1:\n",
    "                            templist[j+5] = temp[i][j]\n",
    "                        elif i == 2:\n",
    "                            templist[j+10] = temp[i][j]\n",
    "                        elif i == 3:\n",
    "                            templist[j+15] = temp[i][j]\n",
    "                        else:\n",
    "                            templist[j+20] = temp[i][j]\n",
    "                templist = np.sort(templist)\n",
    "                newimg[row][col] = templist[12]\n",
    "    newimg = newimg.astype(np.uint8)\n",
    "    return newimg"
   ]
  },
  {
   "cell_type": "code",
   "execution_count": 3,
   "metadata": {},
   "outputs": [],
   "source": [
    "img = cv2.imread('lena.bmp',cv2.IMREAD_GRAYSCALE)\n",
    "aftermedianfilterimg = medianfilter(img,5)  #kernal size 可用 3*3 or 5*5"
   ]
  },
  {
   "cell_type": "code",
   "execution_count": 4,
   "metadata": {},
   "outputs": [
    {
     "data": {
      "text/plain": [
       "-1"
      ]
     },
     "execution_count": 4,
     "metadata": {},
     "output_type": "execute_result"
    }
   ],
   "source": [
    "cv2.imshow('aftermedianfilterimg',aftermedianfilterimg)\n",
    "cv2.waitKey(0)"
   ]
  },
  {
   "cell_type": "code",
   "execution_count": 5,
   "metadata": {},
   "outputs": [
    {
     "data": {
      "text/plain": [
       "True"
      ]
     },
     "execution_count": 5,
     "metadata": {},
     "output_type": "execute_result"
    }
   ],
   "source": [
    "cv2.imwrite('after5medianfilterlena.bmp',aftermedianfilterimg)"
   ]
  },
  {
   "cell_type": "code",
   "execution_count": null,
   "metadata": {},
   "outputs": [],
   "source": []
  },
  {
   "cell_type": "code",
   "execution_count": null,
   "metadata": {},
   "outputs": [],
   "source": []
  },
  {
   "cell_type": "code",
   "execution_count": 6,
   "metadata": {},
   "outputs": [
    {
     "data": {
      "text/plain": [
       "\"\\n#test\\nimg = np.zeros([5,5])\\nimg[0][0] = 1\\nimg[1][1] = 2\\nimg[2][2] = 3\\nimg[3][3] = 4 \\nimg[4][4] = 5\\nimg[0][2] = 7\\nimg[1][2] = 10\\nprint(img)\\nimg = padding(img)\\nprint(img)\\nprint('--------------------------')\\nfor row in range(5):\\n    for col in range(5):\\n        temp = np.zeros([3,3])\\n        temp[0:3,0:3] = img[row:row+3,col:col+3]\\n        templist = np.zeros(9)\\n        print(temp)\\n        print('--------------------------')\\n        for i in range(3):\\n            for j in range(3):\\n                if i == 0:\\n                    templist[j] = temp[i][j]\\n                elif i == 1:\\n                    templist[j+3] = temp[i][j]\\n                else:\\n                    templist[j+6] = temp[i][j]\\n        print(templist)\\n        templist = np.sort(templist)\\n        print(templist)\\n        print('median number=', templist[4])\\n        \\n        \\n        #print(temp)\\n        #print('-------------')\\n        #print(np.sort(temp))\\n        #print('-------------')\\n        #print(np.sort(np.sort(temp),axis = 0))\\n#這樣排完max在右下角，靠北不是找最大值阿，是找中位數...\\n\""
      ]
     },
     "execution_count": 6,
     "metadata": {},
     "output_type": "execute_result"
    }
   ],
   "source": [
    "'''\n",
    "#test\n",
    "img = np.zeros([5,5])\n",
    "img[0][0] = 1\n",
    "img[1][1] = 2\n",
    "img[2][2] = 3\n",
    "img[3][3] = 4 \n",
    "img[4][4] = 5\n",
    "img[0][2] = 7\n",
    "img[1][2] = 10\n",
    "print(img)\n",
    "img = padding(img)\n",
    "print(img)\n",
    "print('--------------------------')\n",
    "for row in range(5):\n",
    "    for col in range(5):\n",
    "        temp = np.zeros([3,3])\n",
    "        temp[0:3,0:3] = img[row:row+3,col:col+3]\n",
    "        templist = np.zeros(9)\n",
    "        print(temp)\n",
    "        print('--------------------------')\n",
    "        for i in range(3):\n",
    "            for j in range(3):\n",
    "                if i == 0:\n",
    "                    templist[j] = temp[i][j]\n",
    "                elif i == 1:\n",
    "                    templist[j+3] = temp[i][j]\n",
    "                else:\n",
    "                    templist[j+6] = temp[i][j]\n",
    "        print(templist)\n",
    "        templist = np.sort(templist)\n",
    "        print(templist)\n",
    "        print('median number=', templist[4])\n",
    "        \n",
    "        \n",
    "        #print(temp)\n",
    "        #print('-------------')\n",
    "        #print(np.sort(temp))\n",
    "        #print('-------------')\n",
    "        #print(np.sort(np.sort(temp),axis = 0))\n",
    "#這樣排完max在右下角，靠北不是找最大值阿，是找中位數...\n",
    "'''"
   ]
  }
 ],
 "metadata": {
  "kernelspec": {
   "display_name": "Python 3",
   "language": "python",
   "name": "python3"
  },
  "language_info": {
   "codemirror_mode": {
    "name": "ipython",
    "version": 3
   },
   "file_extension": ".py",
   "mimetype": "text/x-python",
   "name": "python",
   "nbconvert_exporter": "python",
   "pygments_lexer": "ipython3",
   "version": "3.7.4"
  }
 },
 "nbformat": 4,
 "nbformat_minor": 2
}
