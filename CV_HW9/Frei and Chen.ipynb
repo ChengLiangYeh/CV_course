{
 "cells": [
  {
   "cell_type": "code",
   "execution_count": 1,
   "metadata": {},
   "outputs": [],
   "source": [
    "import cv2\n",
    "import numpy as np"
   ]
  },
  {
   "cell_type": "code",
   "execution_count": 2,
   "metadata": {},
   "outputs": [],
   "source": [
    "def expand_padding(img):\n",
    "    shape = np.shape(img)\n",
    "    new_img = np.zeros([shape[0]+2, shape[1]+2])\n",
    "    for row in range(shape[0]):\n",
    "        for col in range(shape[1]):\n",
    "            new_img[row+1][col+1] = img[row][col]\n",
    "            \n",
    "    for row in range(shape[0]):\n",
    "        new_img[row+1][0] = img[row][0]\n",
    "        new_img[row+1][513] = img[row][511]\n",
    "    \n",
    "    for col in range(shape[0]):\n",
    "        new_img[0][col+1] = img[0][col]\n",
    "        new_img[513][col+1] = img[511][col]\n",
    "\n",
    "    new_img[0][0] = img[0][0]\n",
    "    new_img[0][513] = img[0][511]\n",
    "    new_img[513][0] = img[511][0]\n",
    "    new_img[513][513] = img[511][511]\n",
    "    \n",
    "    return(new_img)"
   ]
  },
  {
   "cell_type": "code",
   "execution_count": 3,
   "metadata": {},
   "outputs": [],
   "source": [
    "def Frei(paddingimg, threshold):\n",
    "    shape = np.shape(paddingimg)\n",
    "    new_img = np.zeros([shape[0]-2,shape[1]-2])\n",
    "    \n",
    "    for row in range(0, shape[0]-2):\n",
    "        for col in range(0, shape[1]-2):\n",
    "            \n",
    "            f1 = (paddingimg[row+2][col] + ((2**(0.5))*paddingimg[row+2][col+1]) + paddingimg[row+2][col+2]) - (paddingimg[row][col] + ((2**(0.5))*paddingimg[row][col+1]) + paddingimg[row][col+2])\n",
    "            \n",
    "            f2 = (paddingimg[row][col+2] + ((2**(0.5))*paddingimg[row+1][col+2]) + paddingimg[row+2][col+2]) - (paddingimg[row][col] + ((2**(0.5))*paddingimg[row+1][col]) + paddingimg[row+2][col])\n",
    "            \n",
    "            \n",
    "            gradient = ((f1**(2)) + (f2**(2)))**(0.5)\n",
    "            \n",
    "            if gradient > threshold:\n",
    "                new_img[row][col] = 0\n",
    "            else:\n",
    "                new_img[row][col] = 255\n",
    "            \n",
    "            \n",
    "    return new_img"
   ]
  },
  {
   "cell_type": "code",
   "execution_count": 4,
   "metadata": {},
   "outputs": [],
   "source": [
    "img = cv2.imread('lena.bmp',cv2.IMREAD_GRAYSCALE)\n",
    "paddingimg = expand_padding(img)\n",
    "paddingimg = paddingimg.astype(np.uint8)\n",
    "new_img = Frei(paddingimg, 30)"
   ]
  },
  {
   "cell_type": "code",
   "execution_count": 5,
   "metadata": {},
   "outputs": [
    {
     "data": {
      "text/plain": [
       "-1"
      ]
     },
     "execution_count": 5,
     "metadata": {},
     "output_type": "execute_result"
    }
   ],
   "source": [
    "cv2.imshow('new_img',new_img)\n",
    "cv2.waitKey(0)"
   ]
  },
  {
   "cell_type": "code",
   "execution_count": 6,
   "metadata": {},
   "outputs": [
    {
     "data": {
      "text/plain": [
       "True"
      ]
     },
     "execution_count": 6,
     "metadata": {},
     "output_type": "execute_result"
    }
   ],
   "source": [
    "cv2.imwrite('Frei_t30.bmp',new_img)"
   ]
  },
  {
   "cell_type": "code",
   "execution_count": null,
   "metadata": {},
   "outputs": [],
   "source": []
  },
  {
   "cell_type": "code",
   "execution_count": null,
   "metadata": {},
   "outputs": [],
   "source": []
  }
 ],
 "metadata": {
  "kernelspec": {
   "display_name": "Python 3",
   "language": "python",
   "name": "python3"
  },
  "language_info": {
   "codemirror_mode": {
    "name": "ipython",
    "version": 3
   },
   "file_extension": ".py",
   "mimetype": "text/x-python",
   "name": "python",
   "nbconvert_exporter": "python",
   "pygments_lexer": "ipython3",
   "version": "3.7.4"
  }
 },
 "nbformat": 4,
 "nbformat_minor": 2
}
