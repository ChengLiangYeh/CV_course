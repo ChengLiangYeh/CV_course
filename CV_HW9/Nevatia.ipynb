{
 "cells": [
  {
   "cell_type": "code",
   "execution_count": 1,
   "metadata": {},
   "outputs": [],
   "source": [
    "import cv2\n",
    "import numpy as np"
   ]
  },
  {
   "cell_type": "code",
   "execution_count": 2,
   "metadata": {},
   "outputs": [],
   "source": [
    "def expand_padding(img):\n",
    "    shape = np.shape(img)\n",
    "    new_img = np.zeros([shape[0]+2, shape[1]+2])\n",
    "    for row in range(shape[0]):\n",
    "        for col in range(shape[1]):\n",
    "            new_img[row+1][col+1] = img[row][col]\n",
    "            \n",
    "    for row in range(shape[0]):\n",
    "        new_img[row+1][0] = img[row][0]\n",
    "        new_img[row+1][shape[0]+1] = img[row][shape[0]-1]\n",
    "    \n",
    "    for col in range(shape[0]):\n",
    "        new_img[0][col+1] = img[0][col]\n",
    "        new_img[shape[0]+1][col+1] = img[shape[0]-1][col]\n",
    "\n",
    "    new_img[0][0] = img[0][0]\n",
    "    new_img[0][shape[0]+1] = img[0][shape[0]-1]\n",
    "    new_img[shape[0]+1][0] = img[shape[0]-1][0]\n",
    "    new_img[shape[0]+1][shape[0]+1] = img[shape[0]-1][shape[0]-1]\n",
    "    \n",
    "    return(new_img)"
   ]
  },
  {
   "cell_type": "code",
   "execution_count": 3,
   "metadata": {},
   "outputs": [],
   "source": [
    "def Nevatia(paddingimg, threshold):\n",
    "    shape = np.shape(paddingimg)\n",
    "    new_img = np.zeros([shape[0]-4,shape[1]-4])\n",
    "    \n",
    "    paddingimg = paddingimg.astype(np.float64)\n",
    "    \n",
    "    kernal0 = [[100,100,100,100,100],\n",
    "               [100,100,100,100,100],\n",
    "               [0,0,0,0,0],\n",
    "               [-100,-100,-100,-100,-100],\n",
    "               [-100,-100,-100,-100,-100]]\n",
    "    kernal0 = np.asarray(kernal0)\n",
    "    \n",
    "    kernal30 = [[100,100,100,100,100],\n",
    "                [100,100,100,78,-32],\n",
    "                [100,92,0,-92,-100],\n",
    "                [32,-78,-100,-100,-100],\n",
    "                [-100,-100,-100,-100,-100]]\n",
    "    kernal30 = np.asarray(kernal30)\n",
    "    \n",
    "    kernal60 = [[100,100,100,32,-100],\n",
    "                [100,100,92,-78,-100],\n",
    "                [100,100,0,-100,-100],\n",
    "                [100,78,-92,-100,-100],\n",
    "                [100,-32,-100,-100,-100]]\n",
    "    kernal60 = np.asarray(kernal60)\n",
    "    \n",
    "    kernalminus90 = [[-100,-100,0,-100,-100],\n",
    "                    [-100,-100,0,100,100],\n",
    "                    [-100,-100,0,100,100],\n",
    "                    [-100,-100,0,100,100],\n",
    "                    [-100,-100,0,100,100]]\n",
    "    kernalminus90 = np.asarray(kernalminus90)\n",
    "    \n",
    "    kernalminus60 = [[-100,32,100,100,100],\n",
    "                    [-100,-78,92,100,100],\n",
    "                    [-100,-100,0,100,100],\n",
    "                    [-100,-100,-92,78,100],\n",
    "                    [-100,-100,-100,-32,100]]\n",
    "    kernalminus60 = np.asarray(kernalminus60)\n",
    "    \n",
    "    kernalminus30 = [[100,100,100,100,100],\n",
    "                    [-32,78,100,100,100],\n",
    "                    [-100,-92,0,92,100],\n",
    "                    [-100,-100,-100,-78,32],\n",
    "                    [-100,-100,-100,-100,-100]]\n",
    "    kernalminus30 = np.asarray(kernalminus30)\n",
    "    \n",
    "    for row in range(0, shape[0]-4):\n",
    "        for col in range(0, shape[1]-4):\n",
    "            \n",
    "            paddingimg[row:row+5,col:col+5]\n",
    "            \n",
    "            N0 = sum(sum(paddingimg[row:row+5,col:col+5] * kernal0))\n",
    "            N30 = sum(sum(paddingimg[row:row+5,col:col+5] * kernal30))\n",
    "            N60 = sum(sum(paddingimg[row:row+5,col:col+5] * kernal60))\n",
    "            Nminus90 = sum(sum(paddingimg[row:row+5,col:col+5] * kernalminus90))\n",
    "            Nminus60 = sum(sum(paddingimg[row:row+5,col:col+5] * kernalminus60))\n",
    "            Nminus30 = sum(sum(paddingimg[row:row+5,col:col+5] * kernalminus30))\n",
    "            \n",
    "            gradientlist = [N0,N30,N60,Nminus90,Nminus60,Nminus30]\n",
    "            #print(gradientlist)\n",
    "            gradient = max(gradientlist)\n",
    "            #print(gradient)\n",
    "            if gradient > threshold:\n",
    "                new_img[row][col] = 0\n",
    "            else:\n",
    "                new_img[row][col] = 255\n",
    "    return new_img"
   ]
  },
  {
   "cell_type": "code",
   "execution_count": 4,
   "metadata": {},
   "outputs": [],
   "source": [
    "img = cv2.imread('lena.bmp',cv2.IMREAD_GRAYSCALE)\n",
    "paddingimg = expand_padding(img)\n",
    "paddingimg = expand_padding(paddingimg)\n",
    "paddingimg = paddingimg.astype(np.uint8)\n",
    "new_img = Nevatia(paddingimg, 12500)"
   ]
  },
  {
   "cell_type": "code",
   "execution_count": 7,
   "metadata": {},
   "outputs": [
    {
     "data": {
      "text/plain": [
       "-1"
      ]
     },
     "execution_count": 7,
     "metadata": {},
     "output_type": "execute_result"
    }
   ],
   "source": [
    "cv2.imshow('new_img',new_img)\n",
    "cv2.waitKey(0)"
   ]
  },
  {
   "cell_type": "code",
   "execution_count": 8,
   "metadata": {},
   "outputs": [
    {
     "data": {
      "text/plain": [
       "True"
      ]
     },
     "execution_count": 8,
     "metadata": {},
     "output_type": "execute_result"
    }
   ],
   "source": [
    "cv2.imwrite('Nevatia_t12500.bmp',new_img)"
   ]
  },
  {
   "cell_type": "code",
   "execution_count": null,
   "metadata": {},
   "outputs": [],
   "source": [
    "#之前在作業8時使用的處理方式，是操作row,col，如img[row:row+2,col:col+3]這種方式。缺點:碰到kernal中長的不太規則很痛苦，要一個一個寫。解法如下:\n",
    "#在作業9，此時使用矩陣方式做處理，直接寫出kernal，用numpy做處理。"
   ]
  }
 ],
 "metadata": {
  "kernelspec": {
   "display_name": "Python 3",
   "language": "python",
   "name": "python3"
  },
  "language_info": {
   "codemirror_mode": {
    "name": "ipython",
    "version": 3
   },
   "file_extension": ".py",
   "mimetype": "text/x-python",
   "name": "python",
   "nbconvert_exporter": "python",
   "pygments_lexer": "ipython3",
   "version": "3.7.4"
  }
 },
 "nbformat": 4,
 "nbformat_minor": 2
}
