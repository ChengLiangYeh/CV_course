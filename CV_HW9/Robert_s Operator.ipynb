{
 "cells": [
  {
   "cell_type": "code",
   "execution_count": 1,
   "metadata": {},
   "outputs": [],
   "source": [
    "import cv2\n",
    "import numpy as np"
   ]
  },
  {
   "cell_type": "code",
   "execution_count": 2,
   "metadata": {},
   "outputs": [],
   "source": [
    "def Robert(img, threshold):\n",
    "    shape = np.shape(img)\n",
    "    new_img = np.zeros([shape[0],shape[1]])\n",
    "    \n",
    "    for row in range(shape[0]-1):\n",
    "        for col in range(shape[1]-1):\n",
    "            r1 = -1*(img[row][col]) + (img[row+1][col+1])\n",
    "            \n",
    "            #print('img[row][col]=',img[row][col])\n",
    "            #print('-(img[row][col])=',-(img[row][col]))\n",
    "            #抓到BUG -> 不可以直接這樣寫負號\n",
    "            \n",
    "            r2 = -1*(img[row][col+1]) + (img[row+1][col])\n",
    "            gradient = ((r1**(2)) + (r2**(2)))**(0.5)\n",
    "            if gradient > threshold:\n",
    "                new_img[row][col] = 0\n",
    "            else:\n",
    "                new_img[row][col] = 255\n",
    "    return new_img\n",
    "                "
   ]
  },
  {
   "cell_type": "code",
   "execution_count": 3,
   "metadata": {},
   "outputs": [],
   "source": [
    "img = cv2.imread('lena.bmp', cv2.IMREAD_GRAYSCALE)\n",
    "new_img = Robert(img, 30)"
   ]
  },
  {
   "cell_type": "code",
   "execution_count": 4,
   "metadata": {},
   "outputs": [
    {
     "data": {
      "text/plain": [
       "-1"
      ]
     },
     "execution_count": 4,
     "metadata": {},
     "output_type": "execute_result"
    }
   ],
   "source": [
    "cv2.imshow('new_img',new_img)\n",
    "cv2.waitKey(0)"
   ]
  },
  {
   "cell_type": "code",
   "execution_count": 5,
   "metadata": {},
   "outputs": [
    {
     "data": {
      "text/plain": [
       "True"
      ]
     },
     "execution_count": 5,
     "metadata": {},
     "output_type": "execute_result"
    }
   ],
   "source": [
    "cv2.imwrite('Robert_t30_img.bmp',new_img)"
   ]
  },
  {
   "cell_type": "code",
   "execution_count": null,
   "metadata": {},
   "outputs": [],
   "source": [
    "#講義給的結果是threshold=30的，但是他的threshold打12..."
   ]
  }
 ],
 "metadata": {
  "kernelspec": {
   "display_name": "Python 3",
   "language": "python",
   "name": "python3"
  },
  "language_info": {
   "codemirror_mode": {
    "name": "ipython",
    "version": 3
   },
   "file_extension": ".py",
   "mimetype": "text/x-python",
   "name": "python",
   "nbconvert_exporter": "python",
   "pygments_lexer": "ipython3",
   "version": "3.7.4"
  }
 },
 "nbformat": 4,
 "nbformat_minor": 2
}
